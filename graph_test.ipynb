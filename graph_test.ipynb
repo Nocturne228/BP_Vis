{
 "cells": [
  {
   "metadata": {
    "ExecuteTime": {
     "end_time": "2024-05-14T02:18:05.091558Z",
     "start_time": "2024-05-14T02:18:04.760168Z"
    }
   },
   "cell_type": "code",
   "source": [
    "import pandas as pd\n",
    "import networkx as nx\n",
    "import numpy as np\n",
    "import plotly.express as px\n",
    "import plotly.graph_objects as go\n",
    "import dash_bootstrap_components as dbc\n",
    "import matplotlib.colors as mcolors\n",
    "\n",
    "\n",
    "# 读取节点文件和边文件\n",
    "nodes_df = pd.read_csv('data/team1/node.csv')\n",
    "edges_df = pd.read_csv('data/team1/link.csv')\n"
   ],
   "id": "cf366f3cfaaa490c",
   "outputs": [],
   "execution_count": 4
  },
  {
   "metadata": {
    "ExecuteTime": {
     "end_time": "2024-05-13T16:07:50.276952Z",
     "start_time": "2024-05-13T16:07:50.275016Z"
    }
   },
   "cell_type": "code",
   "source": [
    "import dash_cytoscape as cyto\n",
    "from dash import Dash, html"
   ],
   "id": "da3816e66c9435ab",
   "outputs": [],
   "execution_count": 26
  },
  {
   "metadata": {
    "ExecuteTime": {
     "end_time": "2024-05-13T16:31:10.110235Z",
     "start_time": "2024-05-13T16:31:10.077201Z"
    }
   },
   "cell_type": "code",
   "source": [
    "label_colors = {\n",
    "            'Domain': '#636EFA',\n",
    "            'Whois_Phone': '#EF553B',\n",
    "            'Whois_Email': '#00CC96',\n",
    "            'Whois_Name': '#AB63FA',\n",
    "            'IP': '#FFA15A',\n",
    "            'IP_C': '#5fab28',\n",
    "            'Cert': '#19D3F3',\n",
    "            'ASN': '#FF6692'\n",
    "            }\n",
    "\n",
    "# 创建空的无向图\n",
    "G = nx.Graph()\n",
    "\n",
    "# 添加节点到图中\n",
    "for i, row in nodes_df.iterrows():\n",
    "    G.add_node(str(row['id']), label=str(row['type']))\n",
    "\n",
    "# 添加边到图中\n",
    "for i, row in edges_df.iterrows():\n",
    "    G.add_edge(str(row['source']), str(row['target']))\n",
    "\n",
    "# 使用 NetworkX 的布局算法计算节点位置\n",
    "pos = nx.spring_layout(G)\n",
    "\n",
    "# 创建 cytoscape 元素列表\n",
    "elements = []\n",
    "\n",
    "\n",
    "# 添加节点到元素列表，并使用计算的位置信息\n",
    "for node_id, node_attrs in G.nodes(data=True):\n",
    "    node_color = label_colors.get(node_attrs['label'], '#FFFFFF')  # 默认为白色\n",
    "    elements.append({\n",
    "        'data': {'id': node_id, 'label': node_attrs['label'], 'label_color': node_color},\n",
    "        'position': {'x': pos[node_id][0] * 500, 'y': pos[node_id][1] * 500}\n",
    "    })\n",
    "\n",
    "# 添加边到元素列表\n",
    "for u, v in G.edges():\n",
    "    elements.append({\n",
    "        'data': {'source': u, 'target': v}\n",
    "    })\n",
    "\n",
    "print(elements)"
   ],
   "id": "e259fc326c8400b4",
   "outputs": [
    {
     "name": "stdout",
     "output_type": "stream",
     "text": [
      "[{'data': {'id': 'Cert_a91593a45b6eceaae2a0478cc243543184d325720bc3f19f91982450b6af57e2', 'label': 'Cert', 'label_color': '#19D3F3'}, 'position': {'x': -384.72081958108305, 'y': -83.8310465408052}}, {'data': {'id': 'Whois_Name_d93c941eef173511e77515af6861025e9a2a52d597e27bf1825961c2690e66cd', 'label': 'Whois_Name', 'label_color': '#AB63FA'}, 'position': {'x': -71.39559851559667, 'y': 110.62407176256436}}, {'data': {'id': 'Whois_Email_62fe1d0691991999225c173a7c6b4da96e9d590457cfb31befb84fc0e980c15e', 'label': 'Whois_Email', 'label_color': '#00CC96'}, 'position': {'x': -46.01698052931345, 'y': 128.14494087918868}}, {'data': {'id': 'Whois_Name_db0925a5aeb1849fa7b41f7a29c1192d38e12e97fb6e82e72e894e3c733130ef', 'label': 'Whois_Name', 'label_color': '#AB63FA'}, 'position': {'x': 155.4250439958524, 'y': 168.1263185490551}}, {'data': {'id': 'Whois_Email_5a3d16b7df3d815d5f3436bd5dd5c5e1054ee7cb74d4fd8d9efdf3af362a4a18', 'label': 'Whois_Email', 'label_color': '#00CC96'}, 'position': {'x': 147.7499403220461, 'y': 179.83318531973921}}, {'data': {'id': 'Whois_Phone_f6974ce3fa84ae76d75b9211f3162155db77566a36c82549b66a9a3d966a928b', 'label': 'Whois_Phone', 'label_color': '#EF553B'}, 'position': {'x': 140.01073286740902, 'y': 191.17100705047847}}, {'data': {'id': 'Domain_61befc7014010dffed9239b8a133396e1a88fa822703b677b123268eb16be3f7', 'label': 'Domain', 'label_color': '#636EFA'}, 'position': {'x': 217.9277938124139, 'y': 214.84895536680514}}, {'data': {'id': 'Domain_c58c149eec59bb14b0c102a0f303d4c20366926b5c3206555d2937474124beb9', 'label': 'Domain', 'label_color': '#636EFA'}, 'position': {'x': 209.88006820435447, 'y': 227.0959398930749}}, {'data': {'id': 'Domain_91de97019b99f9e4b03f9d1bec9fd8925b15a3687a10ea0124baab42e36170b7', 'label': 'Domain', 'label_color': '#636EFA'}, 'position': {'x': 79.54027784251959, 'y': 124.04845211057336}}, {'data': {'id': 'Domain_cee489b4e75d3b79f86fc13516688cb4ed6a84e39f139f25014bf97c0d7bfbf1', 'label': 'Domain', 'label_color': '#636EFA'}, 'position': {'x': 73.29723787022668, 'y': 133.99932466596292}}, {'data': {'id': 'Domain_1d8e02f35e2cba9afb64a653aec2d7703559001c9d4f24c9b119eba50c47df10', 'label': 'Domain', 'label_color': '#636EFA'}, 'position': {'x': 435.6920274221853, 'y': 264.0421538997545}}, {'data': {'id': 'IP_94fb4d47d3920b6a5b74a8ce9e304377460fdffdf6582eca97eda2037bbe0b47', 'label': 'IP', 'label_color': '#FFA15A'}, 'position': {'x': 319.3489617287864, 'y': 279.0545583212599}}, {'data': {'id': 'Domain_f3554b666038baffa5814c319d3053ee2c2eb30d31d0ef509a1a463386b69845', 'label': 'Domain', 'label_color': '#636EFA'}, 'position': {'x': -21.793652543879077, 'y': 55.547587149563924}}, {'data': {'id': 'IP_e9d4d0c9b504b782a7e04f78cf471fc52abba41c1330dec1bd5cfb583add10ce', 'label': 'IP', 'label_color': '#FFA15A'}, 'position': {'x': 22.76506417482916, 'y': 90.63303773358761}}, {'data': {'id': 'Cert_392d981eaf712a3ecb8553b3b90974d538e484bad7ccff19f6ef89d1b6456226', 'label': 'Cert', 'label_color': '#19D3F3'}, 'position': {'x': 13.051082717137326, 'y': 67.34643061393804}}, {'data': {'id': 'Whois_Name_9bf9ce0d5302876657f37557cd8beb6dde7fb29f56370227ca7452c0904328f2', 'label': 'Whois_Name', 'label_color': '#AB63FA'}, 'position': {'x': 495.05937255060553, 'y': 261.0010960822448}}, {'data': {'id': 'Whois_Email_91e0f65f5e2ade2b90edc1f31fe989f138a39f35650688c2da28ebb5ba29a7d8', 'label': 'Whois_Email', 'label_color': '#00CC96'}, 'position': {'x': 498.85361334171904, 'y': 297.82054481326816}}, {'data': {'id': 'Whois_Phone_3c7409957132fe5ac233d4dd715dd018be212923b746abf8a94a96eb905fb8fb', 'label': 'Whois_Phone', 'label_color': '#EF553B'}, 'position': {'x': 500.0, 'y': 234.0967352252559}}, {'data': {'id': 'Domain_e5faee798ab94195e75d453c625b9778a33b5df78d7b2c28e012c689836cfe9a', 'label': 'Domain', 'label_color': '#636EFA'}, 'position': {'x': 384.5753825645563, 'y': 353.42211891707984}}, {'data': {'id': 'Domain_807a8a1a5282607c2063a5b0365268b25f0f62d61741a3e25244840595f10dc3', 'label': 'Domain', 'label_color': '#636EFA'}, 'position': {'x': -41.99145436228635, 'y': -148.60815248073246}}, {'data': {'id': 'Domain_afd826ef13c05bc22f4781e7ad58b8cf5a2b66fc0b65b94cefee484aca14bcaf', 'label': 'Domain', 'label_color': '#636EFA'}, 'position': {'x': -74.20756647611205, 'y': 39.72693007964403}}, {'data': {'id': 'Domain_b0db5e33bb91089520046ff41da4b0d81d7a0fbe23e1046106554c79f8c8659c', 'label': 'Domain', 'label_color': '#636EFA'}, 'position': {'x': -64.93407415563821, 'y': 208.8945850407163}}, {'data': {'id': 'Domain_9b137c5215788c8e66a5ea2d45c7ec3af81d5b1521610b166b109a6701324742', 'label': 'Domain', 'label_color': '#636EFA'}, 'position': {'x': -23.33267670186078, 'y': -18.315652324950353}}, {'data': {'id': 'Whois_Phone_2ed398f49cf52be8e3f9cbf82be998d9ac2ba656d1ea1491baf026bb989531f1', 'label': 'Whois_Phone', 'label_color': '#EF553B'}, 'position': {'x': -14.074738505000342, 'y': 127.63290902788624}}, {'data': {'id': 'Cert_c01f10c61adcaa00ba6d4b85d30ec802bae76597915d7da4f8f094714ab0c597', 'label': 'Cert', 'label_color': '#19D3F3'}, 'position': {'x': 15.082625558228534, 'y': -173.21725901171908}}, {'data': {'id': 'ASN_3acb98d8043248d884b0236acff6e75a199b89dff521dcc142d59df236c7992e', 'label': 'ASN', 'label_color': '#FF6692'}, 'position': {'x': -148.63824949981387, 'y': -6.243385697469416}}, {'data': {'id': 'IP_CIDR_26ab5adadae61886e3865acfe443c8dd71211cbbedc05fb843672bc2ca3dad6a', 'label': 'IP_C', 'label_color': '#5fab28'}, 'position': {'x': 90.62913846103596, 'y': 86.27766088367603}}, {'data': {'id': 'ASN_1d624c9be374e9b85d0105f3fc5e474a305c294f11402195edd43d093b9d4ab9', 'label': 'ASN', 'label_color': '#FF6692'}, 'position': {'x': 321.3485060859101, 'y': 346.27174024652993}}, {'data': {'id': 'IP_CIDR_49d294fbef2603b2c82189a6f066af77385549a0c1eed46d3fa85d9ffc43b3d6', 'label': 'IP_C', 'label_color': '#5fab28'}, 'position': {'x': 352.39967155886364, 'y': 330.55256461831135}}, {'data': {'id': 'Domain_32ef6b395c5e272a588c5acad24eb95138902568ee9570449f10b8aa05617ded', 'label': 'Domain', 'label_color': '#636EFA'}, 'position': {'x': 375.35145894658217, 'y': 294.5503105697496}}, {'data': {'id': 'IP_180ec840d57b66390033e9f0145b6dc76a7213c42d0992faeaaf5719ba7273a2', 'label': 'IP', 'label_color': '#FFA15A'}, 'position': {'x': -94.09985094419598, 'y': 20.534805571824585}}, {'data': {'id': 'Domain_b6ae03c6b2e79be5e1f2b2938fb27069996d9a29daa6e3e8f63da65a7baba520', 'label': 'Domain', 'label_color': '#636EFA'}, 'position': {'x': -52.43468172070949, 'y': -215.6304396623992}}, {'data': {'id': 'Domain_366244592364299707e33731d928c96df664d8beabce7066f2399687d9c81261', 'label': 'Domain', 'label_color': '#636EFA'}, 'position': {'x': -51.134696060007464, 'y': -35.7788973574181}}, {'data': {'id': 'IP_4388239df158d109a77362b1005f194160349eb19f4882e017c8316af464f9c2', 'label': 'IP', 'label_color': '#FFA15A'}, 'position': {'x': -93.1236147379516, 'y': 329.7633119106138}}, {'data': {'id': 'Domain_f46d307d274bb9a830daa368b0cd60b60b11a19245f69807b22270e54720699d', 'label': 'Domain', 'label_color': '#636EFA'}, 'position': {'x': -210.26126609825744, 'y': -40.817595458960184}}, {'data': {'id': 'Domain_d544953df628ea3b0268350be0b607e25f954435ac8582ab50205c7bc48c5685', 'label': 'Domain', 'label_color': '#636EFA'}, 'position': {'x': 32.28559946011915, 'y': -231.05449833072373}}, {'data': {'id': 'Domain_36fd1f26e051d752d86580f3f3674a48f488a5785a5cf145e37c2f08999caaab', 'label': 'Domain', 'label_color': '#636EFA'}, 'position': {'x': -93.27531415296282, 'y': 272.458758468936}}, {'data': {'id': 'IP_2eec711d731faa1b677c62cb897e58cc1c296c1f9864abd447dec6b04b6cea0f', 'label': 'IP', 'label_color': '#FFA15A'}, 'position': {'x': -98.29977426116047, 'y': -27.539920961828212}}, {'data': {'id': 'Domain_d7632006adfa48173b7791317e2c14bc5633a782816812fca33d198c5ac65844', 'label': 'Domain', 'label_color': '#636EFA'}, 'position': {'x': -167.80023162741838, 'y': -273.96298766780274}}, {'data': {'id': 'Domain_bc9c0f77d9f87ea79b2f49a0f3079e7e93fbf06162d7cd89066ae95a18ce05cf', 'label': 'Domain', 'label_color': '#636EFA'}, 'position': {'x': -25.697727232141773, 'y': -65.12665442996796}}, {'data': {'id': 'Domain_44ea0fc049750533fd490ba1b1867062d168c57e36f5ce40469512800c4a2f27', 'label': 'Domain', 'label_color': '#636EFA'}, 'position': {'x': 85.03289176533303, 'y': -208.49192241673978}}, {'data': {'id': 'Cert_90251c3412b1d10fed822153d9877b1dcb2eed0b35c174b2b1f8b1a58de9bc7f', 'label': 'Cert', 'label_color': '#19D3F3'}, 'position': {'x': -12.642409741503005, 'y': -111.8970430787149}}, {'data': {'id': 'IP_fd1466e72d137176ee7d85c8b1d286fdfba318ff80048df9c18155704c997088', 'label': 'IP', 'label_color': '#FFA15A'}, 'position': {'x': -73.74499541916734, 'y': -242.2682802330568}}, {'data': {'id': 'Domain_dd8939ede57b0c0f8a387609441c69399a0ef4ab7516a6e927b8b86d10a95b12', 'label': 'Domain', 'label_color': '#636EFA'}, 'position': {'x': -51.56126563769297, 'y': -66.68866561884032}}, {'data': {'id': 'Domain_4a17a04e1db069c8eee11f9506ffa28eb0e7b2ec45d56a554598e236313e3a6f', 'label': 'Domain', 'label_color': '#636EFA'}, 'position': {'x': -107.0683168249763, 'y': -135.89918488202073}}, {'data': {'id': 'Domain_af23525535ccfd70c339f0944089374081c0862fe603ebe737145e22a587c9f9', 'label': 'Domain', 'label_color': '#636EFA'}, 'position': {'x': 429.93015389450466, 'y': 403.36291182353597}}, {'data': {'id': 'ASN_78e2809d367a13eba927824f6b9e4f2d576c23401663df240342ed4a6a1ee69f', 'label': 'ASN', 'label_color': '#FF6692'}, 'position': {'x': -166.4518650910528, 'y': 28.395182908089737}}, {'data': {'id': 'IP_CIDR_a9831fae6d260c583ab0b1086472a75f39f52ddd8c8fcb4c8f428f7f085e1022', 'label': 'IP_C', 'label_color': '#5fab28'}, 'position': {'x': -147.08343231097206, 'y': 44.517643898609194}}, {'data': {'id': 'ASN_0f9a2f1da2fbc85c054b28eed6800ae354d92ca6d24f07f7143a9bf7e1723d5d', 'label': 'ASN', 'label_color': '#FF6692'}, 'position': {'x': -93.47981773024065, 'y': 404.3384602786791}}, {'data': {'id': 'IP_CIDR_3d4e93241db9e250041c92deb309d5473242867c77e493f8223f84af60210acf', 'label': 'IP_C', 'label_color': '#5fab28'}, 'position': {'x': -129.62674055283293, 'y': 395.10588223370945}}, {'data': {'id': 'IP_69a9464a6a800a5bd8a3635e8912467cb0c447cb90d3efe4adf77f3b4d9b6901', 'label': 'IP', 'label_color': '#FFA15A'}, 'position': {'x': 102.62238222057327, 'y': -279.941733767978}}, {'data': {'id': 'Domain_4a574ffed389ef750ce9cbac62946a3be659eb701338d7a8a6e7d6cf7a296160', 'label': 'Domain', 'label_color': '#636EFA'}, 'position': {'x': -290.2820441888538, 'y': -33.87300899022332}}, {'data': {'id': 'IP_0458088d7526210a3de82f8c7bf290613c96c823d69b2c21da56ad6d5c57e3fd', 'label': 'IP', 'label_color': '#FFA15A'}, 'position': {'x': -327.9564796206534, 'y': -9.568353972682337}}, {'data': {'id': 'Cert_c0d00a3cff5fec1cf204007339f4e82354db0a8f3c151156ff52020f64239200', 'label': 'Cert', 'label_color': '#19D3F3'}, 'position': {'x': -309.7963000545953, 'y': -63.80697274548439}}, {'data': {'id': 'IP_818dd622a130f04e0857bd0276f4dacb32ee046d46605f35cb8bac9999c42f19', 'label': 'IP', 'label_color': '#FFA15A'}, 'position': {'x': -214.73649573504252, 'y': -359.2173391148958}}, {'data': {'id': 'Cert_9c2573ab65a8b7f2b29473065403aedc3a118a7fd1298c17c97513a23bf661f1', 'label': 'Cert', 'label_color': '#19D3F3'}, 'position': {'x': -243.3432437959756, 'y': -342.65435231870924}}, {'data': {'id': 'IP_CIDR_ac1d899ad98b695492d9432304f745682fd381c5fcd1f9961d316b013858ad78', 'label': 'IP_C', 'label_color': '#5fab28'}, 'position': {'x': -173.44168104059523, 'y': -19.89802683037314}}, {'data': {'id': 'Domain_4988530504aecaf8ce6965e5a25889682716bae0d3001f83ef5c2ea5a1aa50d7', 'label': 'Domain', 'label_color': '#636EFA'}, 'position': {'x': -246.5628557540625, 'y': -319.52879627389467}}, {'data': {'id': 'Domain_0a641ed768cee0673f6f23cb056fb60d3edc18079d6b63a9e76d24082cf329e8', 'label': 'Domain', 'label_color': '#636EFA'}, 'position': {'x': 27.48188462102756, 'y': -95.8241059858145}}, {'data': {'id': 'Domain_4b2be07ec35176f87c29d0a8201e320d76b85257899fe50ed53bd381eb0a6459', 'label': 'Domain', 'label_color': '#636EFA'}, 'position': {'x': 192.0888954652241, 'y': -209.99575415854085}}, {'data': {'id': 'Domain_2bc0e345c32f9a28d7f96467187e65ca0c1fb3c870eb762bacc2e93af6aad961', 'label': 'Domain', 'label_color': '#636EFA'}, 'position': {'x': 56.21613733650642, 'y': -116.87881808514128}}, {'data': {'id': 'Domain_a88a6cd85f263a3134a29041118fdba220f058b1ad1ee1ccd7d38802eb08b3f1', 'label': 'Domain', 'label_color': '#636EFA'}, 'position': {'x': 49.54875511885623, 'y': -153.70690830636687}}, {'data': {'id': 'ASN_204fe77913b09bf54e1c2f00774ec8ca0cb2836ce0e422dc5a658c54cf5bf7f5', 'label': 'ASN', 'label_color': '#FF6692'}, 'position': {'x': -72.06411689716421, 'y': -324.2880490588994}}, {'data': {'id': 'ASN_36b2a321f2749b2040b579993be3c253349b609d065a0c6eae8221d96a317b5e', 'label': 'ASN', 'label_color': '#FF6692'}, 'position': {'x': -99.85297876074472, 'y': -310.99540773011216}}, {'data': {'id': 'IP_CIDR_7b93e45cc9b560884040a75d3daa888a4d54c9e7aa897447b1e25d675f0c7397', 'label': 'IP_C', 'label_color': '#5fab28'}, 'position': {'x': -43.36427539071748, 'y': -315.8011007045702}}, {'data': {'id': 'IP_CIDR_bac2f95f7acb5ee6dfaa441a3fa0739a4e614be4488d6894e770b5a6cbe7b9d9', 'label': 'IP_C', 'label_color': '#5fab28'}, 'position': {'x': 148.248484138607, 'y': -342.6121775870199}}, {'data': {'id': 'IP_CIDR_58c32c1223125ca00ff746dc81263fecc04c50ee7777fe70690bafb233c62c3b', 'label': 'IP_C', 'label_color': '#5fab28'}, 'position': {'x': -405.4695205808994, 'y': -6.36396902818992}}, {'data': {'id': 'Domain_d8067b3dfbf9a217a2d5fc56e149e431728813a43eed406a79a7bfd10ce87644', 'label': 'Domain', 'label_color': '#636EFA'}, 'position': {'x': -395.083147083533, 'y': 27.443217936157104}}, {'data': {'id': 'IP_CIDR_d30545b68b5fef70ab03d615cca69d0d8346498ccf24bd0389fd290110c491e5', 'label': 'IP_C', 'label_color': '#5fab28'}, 'position': {'x': -242.01630329990866, 'y': -430.4803412694377}}, {'data': {'id': 'Cert_dac7fb291ac0dc425fadb42a11a9ad5ec126f265fc5a2c7e536cd3903917c586', 'label': 'Cert', 'label_color': '#19D3F3'}, 'position': {'x': -300.2576228426564, 'y': -392.462252768615}}, {'data': {'id': 'Domain_e3369e0ef3b008c440077a7465e496d36d0286399c9bae4015abd4858fd8556f', 'label': 'Domain', 'label_color': '#636EFA'}, 'position': {'x': -317.48357030475455, 'y': -338.63147260576335}}, {'data': {'id': 'Domain_d6dfb3e736645aab30612eb02feeabfec744c67c658c334c49fb41231b8b42ef', 'label': 'Domain', 'label_color': '#636EFA'}, 'position': {'x': 269.1592623179689, 'y': -188.78280639320633}}, {'data': {'source': 'Cert_a91593a45b6eceaae2a0478cc243543184d325720bc3f19f91982450b6af57e2', 'target': 'Cert_c0d00a3cff5fec1cf204007339f4e82354db0a8f3c151156ff52020f64239200'}}, {'data': {'source': 'Whois_Name_d93c941eef173511e77515af6861025e9a2a52d597e27bf1825961c2690e66cd', 'target': 'Domain_f3554b666038baffa5814c319d3053ee2c2eb30d31d0ef509a1a463386b69845'}}, {'data': {'source': 'Whois_Email_62fe1d0691991999225c173a7c6b4da96e9d590457cfb31befb84fc0e980c15e', 'target': 'Domain_f3554b666038baffa5814c319d3053ee2c2eb30d31d0ef509a1a463386b69845'}}, {'data': {'source': 'Whois_Name_db0925a5aeb1849fa7b41f7a29c1192d38e12e97fb6e82e72e894e3c733130ef', 'target': 'Domain_cee489b4e75d3b79f86fc13516688cb4ed6a84e39f139f25014bf97c0d7bfbf1'}}, {'data': {'source': 'Whois_Name_db0925a5aeb1849fa7b41f7a29c1192d38e12e97fb6e82e72e894e3c733130ef', 'target': 'Domain_91de97019b99f9e4b03f9d1bec9fd8925b15a3687a10ea0124baab42e36170b7'}}, {'data': {'source': 'Whois_Name_db0925a5aeb1849fa7b41f7a29c1192d38e12e97fb6e82e72e894e3c733130ef', 'target': 'Domain_c58c149eec59bb14b0c102a0f303d4c20366926b5c3206555d2937474124beb9'}}, {'data': {'source': 'Whois_Name_db0925a5aeb1849fa7b41f7a29c1192d38e12e97fb6e82e72e894e3c733130ef', 'target': 'Domain_61befc7014010dffed9239b8a133396e1a88fa822703b677b123268eb16be3f7'}}, {'data': {'source': 'Whois_Email_5a3d16b7df3d815d5f3436bd5dd5c5e1054ee7cb74d4fd8d9efdf3af362a4a18', 'target': 'Domain_cee489b4e75d3b79f86fc13516688cb4ed6a84e39f139f25014bf97c0d7bfbf1'}}, {'data': {'source': 'Whois_Email_5a3d16b7df3d815d5f3436bd5dd5c5e1054ee7cb74d4fd8d9efdf3af362a4a18', 'target': 'Domain_91de97019b99f9e4b03f9d1bec9fd8925b15a3687a10ea0124baab42e36170b7'}}, {'data': {'source': 'Whois_Email_5a3d16b7df3d815d5f3436bd5dd5c5e1054ee7cb74d4fd8d9efdf3af362a4a18', 'target': 'Domain_c58c149eec59bb14b0c102a0f303d4c20366926b5c3206555d2937474124beb9'}}, {'data': {'source': 'Whois_Email_5a3d16b7df3d815d5f3436bd5dd5c5e1054ee7cb74d4fd8d9efdf3af362a4a18', 'target': 'Domain_61befc7014010dffed9239b8a133396e1a88fa822703b677b123268eb16be3f7'}}, {'data': {'source': 'Whois_Phone_f6974ce3fa84ae76d75b9211f3162155db77566a36c82549b66a9a3d966a928b', 'target': 'Domain_cee489b4e75d3b79f86fc13516688cb4ed6a84e39f139f25014bf97c0d7bfbf1'}}, {'data': {'source': 'Whois_Phone_f6974ce3fa84ae76d75b9211f3162155db77566a36c82549b66a9a3d966a928b', 'target': 'Domain_91de97019b99f9e4b03f9d1bec9fd8925b15a3687a10ea0124baab42e36170b7'}}, {'data': {'source': 'Whois_Phone_f6974ce3fa84ae76d75b9211f3162155db77566a36c82549b66a9a3d966a928b', 'target': 'Domain_c58c149eec59bb14b0c102a0f303d4c20366926b5c3206555d2937474124beb9'}}, {'data': {'source': 'Whois_Phone_f6974ce3fa84ae76d75b9211f3162155db77566a36c82549b66a9a3d966a928b', 'target': 'Domain_61befc7014010dffed9239b8a133396e1a88fa822703b677b123268eb16be3f7'}}, {'data': {'source': 'Domain_61befc7014010dffed9239b8a133396e1a88fa822703b677b123268eb16be3f7', 'target': 'Domain_c58c149eec59bb14b0c102a0f303d4c20366926b5c3206555d2937474124beb9'}}, {'data': {'source': 'Domain_61befc7014010dffed9239b8a133396e1a88fa822703b677b123268eb16be3f7', 'target': 'IP_94fb4d47d3920b6a5b74a8ce9e304377460fdffdf6582eca97eda2037bbe0b47'}}, {'data': {'source': 'Domain_c58c149eec59bb14b0c102a0f303d4c20366926b5c3206555d2937474124beb9', 'target': 'IP_94fb4d47d3920b6a5b74a8ce9e304377460fdffdf6582eca97eda2037bbe0b47'}}, {'data': {'source': 'Domain_91de97019b99f9e4b03f9d1bec9fd8925b15a3687a10ea0124baab42e36170b7', 'target': 'Domain_f3554b666038baffa5814c319d3053ee2c2eb30d31d0ef509a1a463386b69845'}}, {'data': {'source': 'Domain_91de97019b99f9e4b03f9d1bec9fd8925b15a3687a10ea0124baab42e36170b7', 'target': 'Domain_cee489b4e75d3b79f86fc13516688cb4ed6a84e39f139f25014bf97c0d7bfbf1'}}, {'data': {'source': 'Domain_91de97019b99f9e4b03f9d1bec9fd8925b15a3687a10ea0124baab42e36170b7', 'target': 'IP_e9d4d0c9b504b782a7e04f78cf471fc52abba41c1330dec1bd5cfb583add10ce'}}, {'data': {'source': 'Domain_91de97019b99f9e4b03f9d1bec9fd8925b15a3687a10ea0124baab42e36170b7', 'target': 'Cert_392d981eaf712a3ecb8553b3b90974d538e484bad7ccff19f6ef89d1b6456226'}}, {'data': {'source': 'Domain_cee489b4e75d3b79f86fc13516688cb4ed6a84e39f139f25014bf97c0d7bfbf1', 'target': 'Domain_f3554b666038baffa5814c319d3053ee2c2eb30d31d0ef509a1a463386b69845'}}, {'data': {'source': 'Domain_cee489b4e75d3b79f86fc13516688cb4ed6a84e39f139f25014bf97c0d7bfbf1', 'target': 'IP_e9d4d0c9b504b782a7e04f78cf471fc52abba41c1330dec1bd5cfb583add10ce'}}, {'data': {'source': 'Domain_cee489b4e75d3b79f86fc13516688cb4ed6a84e39f139f25014bf97c0d7bfbf1', 'target': 'Cert_392d981eaf712a3ecb8553b3b90974d538e484bad7ccff19f6ef89d1b6456226'}}, {'data': {'source': 'Domain_1d8e02f35e2cba9afb64a653aec2d7703559001c9d4f24c9b119eba50c47df10', 'target': 'Whois_Phone_3c7409957132fe5ac233d4dd715dd018be212923b746abf8a94a96eb905fb8fb'}}, {'data': {'source': 'Domain_1d8e02f35e2cba9afb64a653aec2d7703559001c9d4f24c9b119eba50c47df10', 'target': 'Whois_Email_91e0f65f5e2ade2b90edc1f31fe989f138a39f35650688c2da28ebb5ba29a7d8'}}, {'data': {'source': 'Domain_1d8e02f35e2cba9afb64a653aec2d7703559001c9d4f24c9b119eba50c47df10', 'target': 'Whois_Name_9bf9ce0d5302876657f37557cd8beb6dde7fb29f56370227ca7452c0904328f2'}}, {'data': {'source': 'Domain_1d8e02f35e2cba9afb64a653aec2d7703559001c9d4f24c9b119eba50c47df10', 'target': 'IP_94fb4d47d3920b6a5b74a8ce9e304377460fdffdf6582eca97eda2037bbe0b47'}}, {'data': {'source': 'IP_94fb4d47d3920b6a5b74a8ce9e304377460fdffdf6582eca97eda2037bbe0b47', 'target': 'Domain_32ef6b395c5e272a588c5acad24eb95138902568ee9570449f10b8aa05617ded'}}, {'data': {'source': 'IP_94fb4d47d3920b6a5b74a8ce9e304377460fdffdf6582eca97eda2037bbe0b47', 'target': 'Domain_e5faee798ab94195e75d453c625b9778a33b5df78d7b2c28e012c689836cfe9a'}}, {'data': {'source': 'IP_94fb4d47d3920b6a5b74a8ce9e304377460fdffdf6582eca97eda2037bbe0b47', 'target': 'IP_CIDR_49d294fbef2603b2c82189a6f066af77385549a0c1eed46d3fa85d9ffc43b3d6'}}, {'data': {'source': 'IP_94fb4d47d3920b6a5b74a8ce9e304377460fdffdf6582eca97eda2037bbe0b47', 'target': 'ASN_1d624c9be374e9b85d0105f3fc5e474a305c294f11402195edd43d093b9d4ab9'}}, {'data': {'source': 'Domain_f3554b666038baffa5814c319d3053ee2c2eb30d31d0ef509a1a463386b69845', 'target': 'Domain_366244592364299707e33731d928c96df664d8beabce7066f2399687d9c81261'}}, {'data': {'source': 'Domain_f3554b666038baffa5814c319d3053ee2c2eb30d31d0ef509a1a463386b69845', 'target': 'Domain_807a8a1a5282607c2063a5b0365268b25f0f62d61741a3e25244840595f10dc3'}}, {'data': {'source': 'Domain_f3554b666038baffa5814c319d3053ee2c2eb30d31d0ef509a1a463386b69845', 'target': 'Domain_b0db5e33bb91089520046ff41da4b0d81d7a0fbe23e1046106554c79f8c8659c'}}, {'data': {'source': 'Domain_f3554b666038baffa5814c319d3053ee2c2eb30d31d0ef509a1a463386b69845', 'target': 'IP_180ec840d57b66390033e9f0145b6dc76a7213c42d0992faeaaf5719ba7273a2'}}, {'data': {'source': 'Domain_f3554b666038baffa5814c319d3053ee2c2eb30d31d0ef509a1a463386b69845', 'target': 'Whois_Phone_2ed398f49cf52be8e3f9cbf82be998d9ac2ba656d1ea1491baf026bb989531f1'}}, {'data': {'source': 'Domain_f3554b666038baffa5814c319d3053ee2c2eb30d31d0ef509a1a463386b69845', 'target': 'Domain_9b137c5215788c8e66a5ea2d45c7ec3af81d5b1521610b166b109a6701324742'}}, {'data': {'source': 'Domain_f3554b666038baffa5814c319d3053ee2c2eb30d31d0ef509a1a463386b69845', 'target': 'Domain_afd826ef13c05bc22f4781e7ad58b8cf5a2b66fc0b65b94cefee484aca14bcaf'}}, {'data': {'source': 'Domain_f3554b666038baffa5814c319d3053ee2c2eb30d31d0ef509a1a463386b69845', 'target': 'IP_e9d4d0c9b504b782a7e04f78cf471fc52abba41c1330dec1bd5cfb583add10ce'}}, {'data': {'source': 'Domain_f3554b666038baffa5814c319d3053ee2c2eb30d31d0ef509a1a463386b69845', 'target': 'Cert_392d981eaf712a3ecb8553b3b90974d538e484bad7ccff19f6ef89d1b6456226'}}, {'data': {'source': 'IP_e9d4d0c9b504b782a7e04f78cf471fc52abba41c1330dec1bd5cfb583add10ce', 'target': 'Domain_afd826ef13c05bc22f4781e7ad58b8cf5a2b66fc0b65b94cefee484aca14bcaf'}}, {'data': {'source': 'IP_e9d4d0c9b504b782a7e04f78cf471fc52abba41c1330dec1bd5cfb583add10ce', 'target': 'IP_CIDR_26ab5adadae61886e3865acfe443c8dd71211cbbedc05fb843672bc2ca3dad6a'}}, {'data': {'source': 'Cert_392d981eaf712a3ecb8553b3b90974d538e484bad7ccff19f6ef89d1b6456226', 'target': 'Domain_9b137c5215788c8e66a5ea2d45c7ec3af81d5b1521610b166b109a6701324742'}}, {'data': {'source': 'Cert_392d981eaf712a3ecb8553b3b90974d538e484bad7ccff19f6ef89d1b6456226', 'target': 'Domain_afd826ef13c05bc22f4781e7ad58b8cf5a2b66fc0b65b94cefee484aca14bcaf'}}, {'data': {'source': 'Domain_e5faee798ab94195e75d453c625b9778a33b5df78d7b2c28e012c689836cfe9a', 'target': 'Domain_af23525535ccfd70c339f0944089374081c0862fe603ebe737145e22a587c9f9'}}, {'data': {'source': 'Domain_807a8a1a5282607c2063a5b0365268b25f0f62d61741a3e25244840595f10dc3', 'target': 'Domain_b6ae03c6b2e79be5e1f2b2938fb27069996d9a29daa6e3e8f63da65a7baba520'}}, {'data': {'source': 'Domain_807a8a1a5282607c2063a5b0365268b25f0f62d61741a3e25244840595f10dc3', 'target': 'Domain_d7632006adfa48173b7791317e2c14bc5633a782816812fca33d198c5ac65844'}}, {'data': {'source': 'Domain_807a8a1a5282607c2063a5b0365268b25f0f62d61741a3e25244840595f10dc3', 'target': 'Domain_44ea0fc049750533fd490ba1b1867062d168c57e36f5ce40469512800c4a2f27'}}, {'data': {'source': 'Domain_807a8a1a5282607c2063a5b0365268b25f0f62d61741a3e25244840595f10dc3', 'target': 'Domain_d544953df628ea3b0268350be0b607e25f954435ac8582ab50205c7bc48c5685'}}, {'data': {'source': 'Domain_807a8a1a5282607c2063a5b0365268b25f0f62d61741a3e25244840595f10dc3', 'target': 'IP_fd1466e72d137176ee7d85c8b1d286fdfba318ff80048df9c18155704c997088'}}, {'data': {'source': 'Domain_807a8a1a5282607c2063a5b0365268b25f0f62d61741a3e25244840595f10dc3', 'target': 'Cert_90251c3412b1d10fed822153d9877b1dcb2eed0b35c174b2b1f8b1a58de9bc7f'}}, {'data': {'source': 'Domain_807a8a1a5282607c2063a5b0365268b25f0f62d61741a3e25244840595f10dc3', 'target': 'Domain_4a17a04e1db069c8eee11f9506ffa28eb0e7b2ec45d56a554598e236313e3a6f'}}, {'data': {'source': 'Domain_807a8a1a5282607c2063a5b0365268b25f0f62d61741a3e25244840595f10dc3', 'target': 'Domain_366244592364299707e33731d928c96df664d8beabce7066f2399687d9c81261'}}, {'data': {'source': 'Domain_afd826ef13c05bc22f4781e7ad58b8cf5a2b66fc0b65b94cefee484aca14bcaf', 'target': 'Domain_f46d307d274bb9a830daa368b0cd60b60b11a19245f69807b22270e54720699d'}}, {'data': {'source': 'Domain_b0db5e33bb91089520046ff41da4b0d81d7a0fbe23e1046106554c79f8c8659c', 'target': 'Domain_36fd1f26e051d752d86580f3f3674a48f488a5785a5cf145e37c2f08999caaab'}}, {'data': {'source': 'Domain_b0db5e33bb91089520046ff41da4b0d81d7a0fbe23e1046106554c79f8c8659c', 'target': 'IP_4388239df158d109a77362b1005f194160349eb19f4882e017c8316af464f9c2'}}, {'data': {'source': 'Domain_9b137c5215788c8e66a5ea2d45c7ec3af81d5b1521610b166b109a6701324742', 'target': 'Cert_90251c3412b1d10fed822153d9877b1dcb2eed0b35c174b2b1f8b1a58de9bc7f'}}, {'data': {'source': 'Domain_9b137c5215788c8e66a5ea2d45c7ec3af81d5b1521610b166b109a6701324742', 'target': 'IP_2eec711d731faa1b677c62cb897e58cc1c296c1f9864abd447dec6b04b6cea0f'}}, {'data': {'source': 'Domain_9b137c5215788c8e66a5ea2d45c7ec3af81d5b1521610b166b109a6701324742', 'target': 'Domain_bc9c0f77d9f87ea79b2f49a0f3079e7e93fbf06162d7cd89066ae95a18ce05cf'}}, {'data': {'source': 'Domain_9b137c5215788c8e66a5ea2d45c7ec3af81d5b1521610b166b109a6701324742', 'target': 'Domain_dd8939ede57b0c0f8a387609441c69399a0ef4ab7516a6e927b8b86d10a95b12'}}, {'data': {'source': 'Cert_c01f10c61adcaa00ba6d4b85d30ec802bae76597915d7da4f8f094714ab0c597', 'target': 'Cert_90251c3412b1d10fed822153d9877b1dcb2eed0b35c174b2b1f8b1a58de9bc7f'}}, {'data': {'source': 'ASN_3acb98d8043248d884b0236acff6e75a199b89dff521dcc142d59df236c7992e', 'target': 'IP_180ec840d57b66390033e9f0145b6dc76a7213c42d0992faeaaf5719ba7273a2'}}, {'data': {'source': 'IP_180ec840d57b66390033e9f0145b6dc76a7213c42d0992faeaaf5719ba7273a2', 'target': 'Domain_366244592364299707e33731d928c96df664d8beabce7066f2399687d9c81261'}}, {'data': {'source': 'IP_180ec840d57b66390033e9f0145b6dc76a7213c42d0992faeaaf5719ba7273a2', 'target': 'IP_CIDR_a9831fae6d260c583ab0b1086472a75f39f52ddd8c8fcb4c8f428f7f085e1022'}}, {'data': {'source': 'Domain_b6ae03c6b2e79be5e1f2b2938fb27069996d9a29daa6e3e8f63da65a7baba520', 'target': 'IP_fd1466e72d137176ee7d85c8b1d286fdfba318ff80048df9c18155704c997088'}}, {'data': {'source': 'IP_4388239df158d109a77362b1005f194160349eb19f4882e017c8316af464f9c2', 'target': 'IP_CIDR_3d4e93241db9e250041c92deb309d5473242867c77e493f8223f84af60210acf'}}, {'data': {'source': 'IP_4388239df158d109a77362b1005f194160349eb19f4882e017c8316af464f9c2', 'target': 'ASN_0f9a2f1da2fbc85c054b28eed6800ae354d92ca6d24f07f7143a9bf7e1723d5d'}}, {'data': {'source': 'Domain_f46d307d274bb9a830daa368b0cd60b60b11a19245f69807b22270e54720699d', 'target': 'Cert_c0d00a3cff5fec1cf204007339f4e82354db0a8f3c151156ff52020f64239200'}}, {'data': {'source': 'Domain_f46d307d274bb9a830daa368b0cd60b60b11a19245f69807b22270e54720699d', 'target': 'Domain_4a574ffed389ef750ce9cbac62946a3be659eb701338d7a8a6e7d6cf7a296160'}}, {'data': {'source': 'Domain_f46d307d274bb9a830daa368b0cd60b60b11a19245f69807b22270e54720699d', 'target': 'IP_0458088d7526210a3de82f8c7bf290613c96c823d69b2c21da56ad6d5c57e3fd'}}, {'data': {'source': 'Domain_f46d307d274bb9a830daa368b0cd60b60b11a19245f69807b22270e54720699d', 'target': 'Domain_4a17a04e1db069c8eee11f9506ffa28eb0e7b2ec45d56a554598e236313e3a6f'}}, {'data': {'source': 'Domain_d544953df628ea3b0268350be0b607e25f954435ac8582ab50205c7bc48c5685', 'target': 'IP_69a9464a6a800a5bd8a3635e8912467cb0c447cb90d3efe4adf77f3b4d9b6901'}}, {'data': {'source': 'IP_2eec711d731faa1b677c62cb897e58cc1c296c1f9864abd447dec6b04b6cea0f', 'target': 'IP_CIDR_ac1d899ad98b695492d9432304f745682fd381c5fcd1f9961d316b013858ad78'}}, {'data': {'source': 'IP_2eec711d731faa1b677c62cb897e58cc1c296c1f9864abd447dec6b04b6cea0f', 'target': 'ASN_78e2809d367a13eba927824f6b9e4f2d576c23401663df240342ed4a6a1ee69f'}}, {'data': {'source': 'IP_2eec711d731faa1b677c62cb897e58cc1c296c1f9864abd447dec6b04b6cea0f', 'target': 'Domain_dd8939ede57b0c0f8a387609441c69399a0ef4ab7516a6e927b8b86d10a95b12'}}, {'data': {'source': 'IP_2eec711d731faa1b677c62cb897e58cc1c296c1f9864abd447dec6b04b6cea0f', 'target': 'Domain_bc9c0f77d9f87ea79b2f49a0f3079e7e93fbf06162d7cd89066ae95a18ce05cf'}}, {'data': {'source': 'Domain_d7632006adfa48173b7791317e2c14bc5633a782816812fca33d198c5ac65844', 'target': 'Cert_9c2573ab65a8b7f2b29473065403aedc3a118a7fd1298c17c97513a23bf661f1'}}, {'data': {'source': 'Domain_d7632006adfa48173b7791317e2c14bc5633a782816812fca33d198c5ac65844', 'target': 'IP_818dd622a130f04e0857bd0276f4dacb32ee046d46605f35cb8bac9999c42f19'}}, {'data': {'source': 'Domain_d7632006adfa48173b7791317e2c14bc5633a782816812fca33d198c5ac65844', 'target': 'Domain_4988530504aecaf8ce6965e5a25889682716bae0d3001f83ef5c2ea5a1aa50d7'}}, {'data': {'source': 'Domain_bc9c0f77d9f87ea79b2f49a0f3079e7e93fbf06162d7cd89066ae95a18ce05cf', 'target': 'Domain_0a641ed768cee0673f6f23cb056fb60d3edc18079d6b63a9e76d24082cf329e8'}}, {'data': {'source': 'Domain_bc9c0f77d9f87ea79b2f49a0f3079e7e93fbf06162d7cd89066ae95a18ce05cf', 'target': 'Domain_dd8939ede57b0c0f8a387609441c69399a0ef4ab7516a6e927b8b86d10a95b12'}}, {'data': {'source': 'Domain_bc9c0f77d9f87ea79b2f49a0f3079e7e93fbf06162d7cd89066ae95a18ce05cf', 'target': 'Cert_90251c3412b1d10fed822153d9877b1dcb2eed0b35c174b2b1f8b1a58de9bc7f'}}, {'data': {'source': 'Domain_44ea0fc049750533fd490ba1b1867062d168c57e36f5ce40469512800c4a2f27', 'target': 'Domain_4b2be07ec35176f87c29d0a8201e320d76b85257899fe50ed53bd381eb0a6459'}}, {'data': {'source': 'Domain_44ea0fc049750533fd490ba1b1867062d168c57e36f5ce40469512800c4a2f27', 'target': 'IP_69a9464a6a800a5bd8a3635e8912467cb0c447cb90d3efe4adf77f3b4d9b6901'}}, {'data': {'source': 'Cert_90251c3412b1d10fed822153d9877b1dcb2eed0b35c174b2b1f8b1a58de9bc7f', 'target': 'Domain_a88a6cd85f263a3134a29041118fdba220f058b1ad1ee1ccd7d38802eb08b3f1'}}, {'data': {'source': 'Cert_90251c3412b1d10fed822153d9877b1dcb2eed0b35c174b2b1f8b1a58de9bc7f', 'target': 'Domain_2bc0e345c32f9a28d7f96467187e65ca0c1fb3c870eb762bacc2e93af6aad961'}}, {'data': {'source': 'Cert_90251c3412b1d10fed822153d9877b1dcb2eed0b35c174b2b1f8b1a58de9bc7f', 'target': 'Domain_0a641ed768cee0673f6f23cb056fb60d3edc18079d6b63a9e76d24082cf329e8'}}, {'data': {'source': 'Cert_90251c3412b1d10fed822153d9877b1dcb2eed0b35c174b2b1f8b1a58de9bc7f', 'target': 'Domain_4a17a04e1db069c8eee11f9506ffa28eb0e7b2ec45d56a554598e236313e3a6f'}}, {'data': {'source': 'Cert_90251c3412b1d10fed822153d9877b1dcb2eed0b35c174b2b1f8b1a58de9bc7f', 'target': 'Domain_dd8939ede57b0c0f8a387609441c69399a0ef4ab7516a6e927b8b86d10a95b12'}}, {'data': {'source': 'IP_fd1466e72d137176ee7d85c8b1d286fdfba318ff80048df9c18155704c997088', 'target': 'ASN_36b2a321f2749b2040b579993be3c253349b609d065a0c6eae8221d96a317b5e'}}, {'data': {'source': 'IP_fd1466e72d137176ee7d85c8b1d286fdfba318ff80048df9c18155704c997088', 'target': 'Domain_4a17a04e1db069c8eee11f9506ffa28eb0e7b2ec45d56a554598e236313e3a6f'}}, {'data': {'source': 'IP_fd1466e72d137176ee7d85c8b1d286fdfba318ff80048df9c18155704c997088', 'target': 'ASN_204fe77913b09bf54e1c2f00774ec8ca0cb2836ce0e422dc5a658c54cf5bf7f5'}}, {'data': {'source': 'IP_fd1466e72d137176ee7d85c8b1d286fdfba318ff80048df9c18155704c997088', 'target': 'IP_CIDR_7b93e45cc9b560884040a75d3daa888a4d54c9e7aa897447b1e25d675f0c7397'}}, {'data': {'source': 'IP_69a9464a6a800a5bd8a3635e8912467cb0c447cb90d3efe4adf77f3b4d9b6901', 'target': 'IP_CIDR_bac2f95f7acb5ee6dfaa441a3fa0739a4e614be4488d6894e770b5a6cbe7b9d9'}}, {'data': {'source': 'Domain_4a574ffed389ef750ce9cbac62946a3be659eb701338d7a8a6e7d6cf7a296160', 'target': 'Cert_c0d00a3cff5fec1cf204007339f4e82354db0a8f3c151156ff52020f64239200'}}, {'data': {'source': 'Domain_4a574ffed389ef750ce9cbac62946a3be659eb701338d7a8a6e7d6cf7a296160', 'target': 'IP_0458088d7526210a3de82f8c7bf290613c96c823d69b2c21da56ad6d5c57e3fd'}}, {'data': {'source': 'IP_0458088d7526210a3de82f8c7bf290613c96c823d69b2c21da56ad6d5c57e3fd', 'target': 'IP_CIDR_58c32c1223125ca00ff746dc81263fecc04c50ee7777fe70690bafb233c62c3b'}}, {'data': {'source': 'IP_0458088d7526210a3de82f8c7bf290613c96c823d69b2c21da56ad6d5c57e3fd', 'target': 'Domain_d8067b3dfbf9a217a2d5fc56e149e431728813a43eed406a79a7bfd10ce87644'}}, {'data': {'source': 'IP_818dd622a130f04e0857bd0276f4dacb32ee046d46605f35cb8bac9999c42f19', 'target': 'Domain_4988530504aecaf8ce6965e5a25889682716bae0d3001f83ef5c2ea5a1aa50d7'}}, {'data': {'source': 'IP_818dd622a130f04e0857bd0276f4dacb32ee046d46605f35cb8bac9999c42f19', 'target': 'IP_CIDR_d30545b68b5fef70ab03d615cca69d0d8346498ccf24bd0389fd290110c491e5'}}, {'data': {'source': 'Cert_9c2573ab65a8b7f2b29473065403aedc3a118a7fd1298c17c97513a23bf661f1', 'target': 'Domain_4988530504aecaf8ce6965e5a25889682716bae0d3001f83ef5c2ea5a1aa50d7'}}, {'data': {'source': 'Cert_9c2573ab65a8b7f2b29473065403aedc3a118a7fd1298c17c97513a23bf661f1', 'target': 'Cert_dac7fb291ac0dc425fadb42a11a9ad5ec126f265fc5a2c7e536cd3903917c586'}}, {'data': {'source': 'Domain_4988530504aecaf8ce6965e5a25889682716bae0d3001f83ef5c2ea5a1aa50d7', 'target': 'Domain_e3369e0ef3b008c440077a7465e496d36d0286399c9bae4015abd4858fd8556f'}}, {'data': {'source': 'Domain_0a641ed768cee0673f6f23cb056fb60d3edc18079d6b63a9e76d24082cf329e8', 'target': 'Domain_2bc0e345c32f9a28d7f96467187e65ca0c1fb3c870eb762bacc2e93af6aad961'}}, {'data': {'source': 'Domain_4b2be07ec35176f87c29d0a8201e320d76b85257899fe50ed53bd381eb0a6459', 'target': 'Domain_d6dfb3e736645aab30612eb02feeabfec744c67c658c334c49fb41231b8b42ef'}}]\n"
     ]
    }
   ],
   "execution_count": 39
  },
  {
   "metadata": {
    "ExecuteTime": {
     "end_time": "2024-05-13T16:12:02.565860Z",
     "start_time": "2024-05-13T16:12:02.547020Z"
    }
   },
   "cell_type": "code",
   "source": [
    "import matplotlib.colors as mcolors\n",
    "\n",
    "# 颜色列表\n",
    "colors = {\n",
    "    'Domain': '#636EFA',\n",
    "    'Whois_Phone': '#EF553B',\n",
    "    'Whois_Email': '#00CC96',\n",
    "    'Whois_Name': '#AB63FA',\n",
    "    'IP': '#FFA15A',\n",
    "    'IP_C': '#5fab28',\n",
    "    'Cert': '#19D3F3',\n",
    "    'ASN': '#FF6692'\n",
    "}\n",
    "\n",
    "# 定义调整颜色亮度的函数\n",
    "def adjust_brightness(color_hex, factor=1.2):\n",
    "    rgb_tuple = mcolors.hex2color(color_hex)\n",
    "    hsv_tuple = mcolors.rgb_to_hsv(rgb_tuple)\n",
    "    adjusted_hsv = (hsv_tuple[0], hsv_tuple[1], min(1, hsv_tuple[2] * factor))\n",
    "    adjusted_rgb = mcolors.hsv_to_rgb(adjusted_hsv)\n",
    "    adjusted_hex = mcolors.rgb2hex(adjusted_rgb)\n",
    "    return adjusted_hex\n",
    "\n",
    "# 计算每种颜色的高亮和暗淡颜色\n",
    "bright_colors = {}\n",
    "dark_colors = {}\n",
    "for label, color_hex in colors.items():\n",
    "    # 计算高亮颜色\n",
    "    bright_colors[label] = adjust_brightness(color_hex, factor=1.2)\n",
    "    # 计算暗淡颜色\n",
    "    dark_colors[label] = adjust_brightness(color_hex, factor=0.8)\n",
    "\n",
    "# 输出高亮颜色和暗淡颜色\n",
    "print(\"高亮颜色：\", bright_colors)\n",
    "print(\"暗淡颜色：\", dark_colors)\n"
   ],
   "id": "3e1363b1e5cfb4c6",
   "outputs": [
    {
     "name": "stdout",
     "output_type": "stream",
     "text": [
      "高亮颜色： {'Domain': '#6570ff', 'Whois_Phone': '#ff5b3f', 'Whois_Email': '#00f5b4', 'Whois_Name': '#ae65ff', 'IP': '#ffa15a', 'IP_C': '#72cd30', 'Cert': '#1addff', 'ASN': '#ff6692'}\n",
      "暗淡颜色： {'Domain': '#4f58c8', 'Whois_Phone': '#bf442f', 'Whois_Email': '#00a378', 'Whois_Name': '#894fc8', 'IP': '#cc8148', 'IP_C': '#4c8920', 'Cert': '#14a9c2', 'ASN': '#cc5275'}\n"
     ]
    }
   ],
   "execution_count": 35
  },
  {
   "metadata": {},
   "cell_type": "code",
   "outputs": [],
   "execution_count": null,
   "source": [
    "bright_colors = {\n",
    "    'Domain': '#6570ff', \n",
    "    'Whois_Phone': '#ff5b3f', \n",
    "    'Whois_Email': '#00f5b4', \n",
    "    'Whois_Name': '#ae65ff', \n",
    "    'IP': '#ffa15a', \n",
    "    'IP_C': '#72cd30', \n",
    "    'Cert': '#1addff', \n",
    "    'ASN': '#ff6692'\n",
    "}\n",
    "\n",
    "dark_colors = {\n",
    "    'Domain': '#4f58c8', \n",
    "    'Whois_Phone': '#bf442f', \n",
    "    'Whois_Email': '#00a378', \n",
    "    'Whois_Name': '#894fc8', \n",
    "    'IP': '#cc8148', \n",
    "    'IP_C': '#4c8920', \n",
    "    'Cert': '#14a9c2', \n",
    "    'ASN': '#cc5275'\n",
    "}\n",
    "\n",
    "dark = {\n",
    "    'Domain': '#2c3263',\n",
    "    'Whois_Phone': '#64291a',\n",
    "    'Whois_Email': '#005a43',\n",
    "    'IP': '#4f3619',\n",
    "    'IP_C': '#224717',\n",
    "    'Cert': '#13455b',\n",
    "    'ASN': '#5c2e2e'\n",
    "}"
   ],
   "id": "1644e0fdc38d109b"
  },
  {
   "metadata": {
    "ExecuteTime": {
     "end_time": "2024-05-13T16:16:00.877844Z",
     "start_time": "2024-05-13T16:16:00.867058Z"
    }
   },
   "cell_type": "code",
   "source": [
    "# 选择适合用作可视化图表的7种颜色\n",
    "colors = px.colors.qualitative.Plotly\n",
    "\n",
    "# 根据标签数量截取相应数量的颜色\n",
    "colors = colors[:7]\n",
    "\n",
    "# 打印生成的颜色列表\n",
    "print(colors)"
   ],
   "id": "28099b58e7606163",
   "outputs": [
    {
     "name": "stdout",
     "output_type": "stream",
     "text": [
      "['#636EFA', '#EF553B', '#00CC96', '#AB63FA', '#FFA15A', '#19D3F3', '#FF6692']\n"
     ]
    }
   ],
   "execution_count": 36
  },
  {
   "metadata": {},
   "cell_type": "code",
   "outputs": [],
   "execution_count": null,
   "source": "['#636EFA', '#EF553B', '#00CC96', '#AB63FA', '#FFA15A', '#19D3F3', '#FF6692']",
   "id": "b1c9faf70cff61ac"
  },
  {
   "metadata": {
    "ExecuteTime": {
     "end_time": "2024-05-13T16:17:07.501318Z",
     "start_time": "2024-05-13T16:17:07.496434Z"
    }
   },
   "cell_type": "code",
   "source": [
    "# 选择相对暗淡的调色盘\n",
    "colors_dark = px.colors.qualitative.Safe\n",
    "\n",
    "# 根据标签数量截取相应数量的颜色\n",
    "colors_dark = colors_dark[:7]\n",
    "\n",
    "print(colors_dark)"
   ],
   "id": "c9ffb4da6e012127",
   "outputs": [
    {
     "name": "stdout",
     "output_type": "stream",
     "text": [
      "['rgb(136, 204, 238)', 'rgb(204, 102, 119)', 'rgb(221, 204, 119)', 'rgb(17, 119, 51)', 'rgb(51, 34, 136)', 'rgb(170, 68, 153)', 'rgb(68, 170, 153)']\n"
     ]
    }
   ],
   "execution_count": 38
  },
  {
   "metadata": {},
   "cell_type": "code",
   "outputs": [],
   "execution_count": null,
   "source": "['rgb(136, 204, 238)', 'rgb(204, 102, 119)', 'rgb(221, 204, 119)', 'rgb(17, 119, 51)', 'rgb(51, 34, 136)', 'rgb(170, 68, 153)', 'rgb(68, 170, 153)']",
   "id": "7eaf40d15cc6fd35"
  },
  {
   "metadata": {
    "ExecuteTime": {
     "end_time": "2024-05-14T00:24:34.028478Z",
     "start_time": "2024-05-14T00:24:34.025223Z"
    }
   },
   "cell_type": "code",
   "source": [
    "def reduce_brightness(hex_color, factor):\n",
    "    if '#' in hex_color:\n",
    "        hex_color = hex_color.lstrip('#')\n",
    "    # Convert hex color to RGB\n",
    "    r = int(hex_color[0:2], 16)\n",
    "    g = int(hex_color[2:4], 16)\n",
    "    b = int(hex_color[4:6], 16)\n",
    "\n",
    "    # Reduce brightness\n",
    "    r_new = int(r * factor)\n",
    "    g_new = int(g * factor)\n",
    "    b_new = int(b * factor)\n",
    "\n",
    "    # Ensure values are within valid range (0-255)\n",
    "    r_new = min(max(r_new, 0), 255)\n",
    "    g_new = min(max(g_new, 0), 255)\n",
    "    b_new = min(max(b_new, 0), 255)\n",
    "\n",
    "    # Convert RGB back to hex\n",
    "    return '#{:02x}{:02x}{:02x}'.format(r_new, g_new, b_new)\n",
    "\n",
    "# Example usage\n",
    "hex_color = '#3DA699'  # Example hex color\n",
    "factor = 0.5  # Example brightness reduction factor\n",
    "result = reduce_brightness(hex_color, factor)\n",
    "print(result)\n"
   ],
   "id": "decd1ad65f098322",
   "outputs": [
    {
     "name": "stdout",
     "output_type": "stream",
     "text": [
      "#1e534c\n"
     ]
    }
   ],
   "execution_count": 45
  },
  {
   "metadata": {
    "ExecuteTime": {
     "end_time": "2024-05-14T02:27:59.017518Z",
     "start_time": "2024-05-14T02:27:58.998101Z"
    }
   },
   "cell_type": "code",
   "source": [
    "import plotly.express as px\n",
    "\n",
    "df = nodes_df\n",
    "\n",
    "type_counts = df['type'].value_counts()\n",
    "# 计算每种'type'的数量并转换为DataFrame\n",
    "type_counts_df = type_counts.reset_index()\n",
    "type_counts_df.columns = ['type', 'count']\n",
    "\n",
    "# 创建饼图并显示图例\n",
    "fig = px.pie(names=type_counts_df['type'], values=type_counts_df['count'], title='Type Composition')\n",
    "# \n",
    "# 显示饼图\n",
    "fig.show()"
   ],
   "id": "9cb59b4908930676",
   "outputs": [
    {
     "data": {
      "application/vnd.plotly.v1+json": {
       "data": [
        {
         "domain": {
          "x": [
           0.0,
           1.0
          ],
          "y": [
           0.0,
           1.0
          ]
         },
         "hovertemplate": "label=%{label}<br>value=%{value}<extra></extra>",
         "labels": [
          "Domain",
          "IP",
          "IP_C",
          "Cert",
          "ASN",
          "Whois_Name",
          "Whois_Email",
          "Whois_Phone"
         ],
         "legendgroup": "",
         "name": "",
         "showlegend": true,
         "values": [
          32,
          9,
          9,
          7,
          6,
          3,
          3,
          3
         ],
         "type": "pie"
        }
       ],
       "layout": {
        "template": {
         "data": {
          "histogram2dcontour": [
           {
            "type": "histogram2dcontour",
            "colorbar": {
             "outlinewidth": 0,
             "ticks": ""
            },
            "colorscale": [
             [
              0.0,
              "#0d0887"
             ],
             [
              0.1111111111111111,
              "#46039f"
             ],
             [
              0.2222222222222222,
              "#7201a8"
             ],
             [
              0.3333333333333333,
              "#9c179e"
             ],
             [
              0.4444444444444444,
              "#bd3786"
             ],
             [
              0.5555555555555556,
              "#d8576b"
             ],
             [
              0.6666666666666666,
              "#ed7953"
             ],
             [
              0.7777777777777778,
              "#fb9f3a"
             ],
             [
              0.8888888888888888,
              "#fdca26"
             ],
             [
              1.0,
              "#f0f921"
             ]
            ]
           }
          ],
          "choropleth": [
           {
            "type": "choropleth",
            "colorbar": {
             "outlinewidth": 0,
             "ticks": ""
            }
           }
          ],
          "histogram2d": [
           {
            "type": "histogram2d",
            "colorbar": {
             "outlinewidth": 0,
             "ticks": ""
            },
            "colorscale": [
             [
              0.0,
              "#0d0887"
             ],
             [
              0.1111111111111111,
              "#46039f"
             ],
             [
              0.2222222222222222,
              "#7201a8"
             ],
             [
              0.3333333333333333,
              "#9c179e"
             ],
             [
              0.4444444444444444,
              "#bd3786"
             ],
             [
              0.5555555555555556,
              "#d8576b"
             ],
             [
              0.6666666666666666,
              "#ed7953"
             ],
             [
              0.7777777777777778,
              "#fb9f3a"
             ],
             [
              0.8888888888888888,
              "#fdca26"
             ],
             [
              1.0,
              "#f0f921"
             ]
            ]
           }
          ],
          "heatmap": [
           {
            "type": "heatmap",
            "colorbar": {
             "outlinewidth": 0,
             "ticks": ""
            },
            "colorscale": [
             [
              0.0,
              "#0d0887"
             ],
             [
              0.1111111111111111,
              "#46039f"
             ],
             [
              0.2222222222222222,
              "#7201a8"
             ],
             [
              0.3333333333333333,
              "#9c179e"
             ],
             [
              0.4444444444444444,
              "#bd3786"
             ],
             [
              0.5555555555555556,
              "#d8576b"
             ],
             [
              0.6666666666666666,
              "#ed7953"
             ],
             [
              0.7777777777777778,
              "#fb9f3a"
             ],
             [
              0.8888888888888888,
              "#fdca26"
             ],
             [
              1.0,
              "#f0f921"
             ]
            ]
           }
          ],
          "heatmapgl": [
           {
            "type": "heatmapgl",
            "colorbar": {
             "outlinewidth": 0,
             "ticks": ""
            },
            "colorscale": [
             [
              0.0,
              "#0d0887"
             ],
             [
              0.1111111111111111,
              "#46039f"
             ],
             [
              0.2222222222222222,
              "#7201a8"
             ],
             [
              0.3333333333333333,
              "#9c179e"
             ],
             [
              0.4444444444444444,
              "#bd3786"
             ],
             [
              0.5555555555555556,
              "#d8576b"
             ],
             [
              0.6666666666666666,
              "#ed7953"
             ],
             [
              0.7777777777777778,
              "#fb9f3a"
             ],
             [
              0.8888888888888888,
              "#fdca26"
             ],
             [
              1.0,
              "#f0f921"
             ]
            ]
           }
          ],
          "contourcarpet": [
           {
            "type": "contourcarpet",
            "colorbar": {
             "outlinewidth": 0,
             "ticks": ""
            }
           }
          ],
          "contour": [
           {
            "type": "contour",
            "colorbar": {
             "outlinewidth": 0,
             "ticks": ""
            },
            "colorscale": [
             [
              0.0,
              "#0d0887"
             ],
             [
              0.1111111111111111,
              "#46039f"
             ],
             [
              0.2222222222222222,
              "#7201a8"
             ],
             [
              0.3333333333333333,
              "#9c179e"
             ],
             [
              0.4444444444444444,
              "#bd3786"
             ],
             [
              0.5555555555555556,
              "#d8576b"
             ],
             [
              0.6666666666666666,
              "#ed7953"
             ],
             [
              0.7777777777777778,
              "#fb9f3a"
             ],
             [
              0.8888888888888888,
              "#fdca26"
             ],
             [
              1.0,
              "#f0f921"
             ]
            ]
           }
          ],
          "surface": [
           {
            "type": "surface",
            "colorbar": {
             "outlinewidth": 0,
             "ticks": ""
            },
            "colorscale": [
             [
              0.0,
              "#0d0887"
             ],
             [
              0.1111111111111111,
              "#46039f"
             ],
             [
              0.2222222222222222,
              "#7201a8"
             ],
             [
              0.3333333333333333,
              "#9c179e"
             ],
             [
              0.4444444444444444,
              "#bd3786"
             ],
             [
              0.5555555555555556,
              "#d8576b"
             ],
             [
              0.6666666666666666,
              "#ed7953"
             ],
             [
              0.7777777777777778,
              "#fb9f3a"
             ],
             [
              0.8888888888888888,
              "#fdca26"
             ],
             [
              1.0,
              "#f0f921"
             ]
            ]
           }
          ],
          "mesh3d": [
           {
            "type": "mesh3d",
            "colorbar": {
             "outlinewidth": 0,
             "ticks": ""
            }
           }
          ],
          "scatter": [
           {
            "fillpattern": {
             "fillmode": "overlay",
             "size": 10,
             "solidity": 0.2
            },
            "type": "scatter"
           }
          ],
          "parcoords": [
           {
            "type": "parcoords",
            "line": {
             "colorbar": {
              "outlinewidth": 0,
              "ticks": ""
             }
            }
           }
          ],
          "scatterpolargl": [
           {
            "type": "scatterpolargl",
            "marker": {
             "colorbar": {
              "outlinewidth": 0,
              "ticks": ""
             }
            }
           }
          ],
          "bar": [
           {
            "error_x": {
             "color": "#2a3f5f"
            },
            "error_y": {
             "color": "#2a3f5f"
            },
            "marker": {
             "line": {
              "color": "#E5ECF6",
              "width": 0.5
             },
             "pattern": {
              "fillmode": "overlay",
              "size": 10,
              "solidity": 0.2
             }
            },
            "type": "bar"
           }
          ],
          "scattergeo": [
           {
            "type": "scattergeo",
            "marker": {
             "colorbar": {
              "outlinewidth": 0,
              "ticks": ""
             }
            }
           }
          ],
          "scatterpolar": [
           {
            "type": "scatterpolar",
            "marker": {
             "colorbar": {
              "outlinewidth": 0,
              "ticks": ""
             }
            }
           }
          ],
          "histogram": [
           {
            "marker": {
             "pattern": {
              "fillmode": "overlay",
              "size": 10,
              "solidity": 0.2
             }
            },
            "type": "histogram"
           }
          ],
          "scattergl": [
           {
            "type": "scattergl",
            "marker": {
             "colorbar": {
              "outlinewidth": 0,
              "ticks": ""
             }
            }
           }
          ],
          "scatter3d": [
           {
            "type": "scatter3d",
            "line": {
             "colorbar": {
              "outlinewidth": 0,
              "ticks": ""
             }
            },
            "marker": {
             "colorbar": {
              "outlinewidth": 0,
              "ticks": ""
             }
            }
           }
          ],
          "scattermapbox": [
           {
            "type": "scattermapbox",
            "marker": {
             "colorbar": {
              "outlinewidth": 0,
              "ticks": ""
             }
            }
           }
          ],
          "scatterternary": [
           {
            "type": "scatterternary",
            "marker": {
             "colorbar": {
              "outlinewidth": 0,
              "ticks": ""
             }
            }
           }
          ],
          "scattercarpet": [
           {
            "type": "scattercarpet",
            "marker": {
             "colorbar": {
              "outlinewidth": 0,
              "ticks": ""
             }
            }
           }
          ],
          "carpet": [
           {
            "aaxis": {
             "endlinecolor": "#2a3f5f",
             "gridcolor": "white",
             "linecolor": "white",
             "minorgridcolor": "white",
             "startlinecolor": "#2a3f5f"
            },
            "baxis": {
             "endlinecolor": "#2a3f5f",
             "gridcolor": "white",
             "linecolor": "white",
             "minorgridcolor": "white",
             "startlinecolor": "#2a3f5f"
            },
            "type": "carpet"
           }
          ],
          "table": [
           {
            "cells": {
             "fill": {
              "color": "#EBF0F8"
             },
             "line": {
              "color": "white"
             }
            },
            "header": {
             "fill": {
              "color": "#C8D4E3"
             },
             "line": {
              "color": "white"
             }
            },
            "type": "table"
           }
          ],
          "barpolar": [
           {
            "marker": {
             "line": {
              "color": "#E5ECF6",
              "width": 0.5
             },
             "pattern": {
              "fillmode": "overlay",
              "size": 10,
              "solidity": 0.2
             }
            },
            "type": "barpolar"
           }
          ],
          "pie": [
           {
            "automargin": true,
            "type": "pie"
           }
          ]
         },
         "layout": {
          "autotypenumbers": "strict",
          "colorway": [
           "#636efa",
           "#EF553B",
           "#00cc96",
           "#ab63fa",
           "#FFA15A",
           "#19d3f3",
           "#FF6692",
           "#B6E880",
           "#FF97FF",
           "#FECB52"
          ],
          "font": {
           "color": "#2a3f5f"
          },
          "hovermode": "closest",
          "hoverlabel": {
           "align": "left"
          },
          "paper_bgcolor": "white",
          "plot_bgcolor": "#E5ECF6",
          "polar": {
           "bgcolor": "#E5ECF6",
           "angularaxis": {
            "gridcolor": "white",
            "linecolor": "white",
            "ticks": ""
           },
           "radialaxis": {
            "gridcolor": "white",
            "linecolor": "white",
            "ticks": ""
           }
          },
          "ternary": {
           "bgcolor": "#E5ECF6",
           "aaxis": {
            "gridcolor": "white",
            "linecolor": "white",
            "ticks": ""
           },
           "baxis": {
            "gridcolor": "white",
            "linecolor": "white",
            "ticks": ""
           },
           "caxis": {
            "gridcolor": "white",
            "linecolor": "white",
            "ticks": ""
           }
          },
          "coloraxis": {
           "colorbar": {
            "outlinewidth": 0,
            "ticks": ""
           }
          },
          "colorscale": {
           "sequential": [
            [
             0.0,
             "#0d0887"
            ],
            [
             0.1111111111111111,
             "#46039f"
            ],
            [
             0.2222222222222222,
             "#7201a8"
            ],
            [
             0.3333333333333333,
             "#9c179e"
            ],
            [
             0.4444444444444444,
             "#bd3786"
            ],
            [
             0.5555555555555556,
             "#d8576b"
            ],
            [
             0.6666666666666666,
             "#ed7953"
            ],
            [
             0.7777777777777778,
             "#fb9f3a"
            ],
            [
             0.8888888888888888,
             "#fdca26"
            ],
            [
             1.0,
             "#f0f921"
            ]
           ],
           "sequentialminus": [
            [
             0.0,
             "#0d0887"
            ],
            [
             0.1111111111111111,
             "#46039f"
            ],
            [
             0.2222222222222222,
             "#7201a8"
            ],
            [
             0.3333333333333333,
             "#9c179e"
            ],
            [
             0.4444444444444444,
             "#bd3786"
            ],
            [
             0.5555555555555556,
             "#d8576b"
            ],
            [
             0.6666666666666666,
             "#ed7953"
            ],
            [
             0.7777777777777778,
             "#fb9f3a"
            ],
            [
             0.8888888888888888,
             "#fdca26"
            ],
            [
             1.0,
             "#f0f921"
            ]
           ],
           "diverging": [
            [
             0,
             "#8e0152"
            ],
            [
             0.1,
             "#c51b7d"
            ],
            [
             0.2,
             "#de77ae"
            ],
            [
             0.3,
             "#f1b6da"
            ],
            [
             0.4,
             "#fde0ef"
            ],
            [
             0.5,
             "#f7f7f7"
            ],
            [
             0.6,
             "#e6f5d0"
            ],
            [
             0.7,
             "#b8e186"
            ],
            [
             0.8,
             "#7fbc41"
            ],
            [
             0.9,
             "#4d9221"
            ],
            [
             1,
             "#276419"
            ]
           ]
          },
          "xaxis": {
           "gridcolor": "white",
           "linecolor": "white",
           "ticks": "",
           "title": {
            "standoff": 15
           },
           "zerolinecolor": "white",
           "automargin": true,
           "zerolinewidth": 2
          },
          "yaxis": {
           "gridcolor": "white",
           "linecolor": "white",
           "ticks": "",
           "title": {
            "standoff": 15
           },
           "zerolinecolor": "white",
           "automargin": true,
           "zerolinewidth": 2
          },
          "scene": {
           "xaxis": {
            "backgroundcolor": "#E5ECF6",
            "gridcolor": "white",
            "linecolor": "white",
            "showbackground": true,
            "ticks": "",
            "zerolinecolor": "white",
            "gridwidth": 2
           },
           "yaxis": {
            "backgroundcolor": "#E5ECF6",
            "gridcolor": "white",
            "linecolor": "white",
            "showbackground": true,
            "ticks": "",
            "zerolinecolor": "white",
            "gridwidth": 2
           },
           "zaxis": {
            "backgroundcolor": "#E5ECF6",
            "gridcolor": "white",
            "linecolor": "white",
            "showbackground": true,
            "ticks": "",
            "zerolinecolor": "white",
            "gridwidth": 2
           }
          },
          "shapedefaults": {
           "line": {
            "color": "#2a3f5f"
           }
          },
          "annotationdefaults": {
           "arrowcolor": "#2a3f5f",
           "arrowhead": 0,
           "arrowwidth": 1
          },
          "geo": {
           "bgcolor": "white",
           "landcolor": "#E5ECF6",
           "subunitcolor": "white",
           "showland": true,
           "showlakes": true,
           "lakecolor": "white"
          },
          "title": {
           "x": 0.05
          },
          "mapbox": {
           "style": "light"
          }
         }
        },
        "legend": {
         "tracegroupgap": 0
        },
        "title": {
         "text": "Type Composition"
        }
       },
       "config": {
        "plotlyServerURL": "https://plot.ly"
       }
      },
      "text/html": [
       "<div>                            <div id=\"5d94436b-8090-4449-9b77-947e55d0669c\" class=\"plotly-graph-div\" style=\"height:525px; width:100%;\"></div>            <script type=\"text/javascript\">                require([\"plotly\"], function(Plotly) {                    window.PLOTLYENV=window.PLOTLYENV || {};                                    if (document.getElementById(\"5d94436b-8090-4449-9b77-947e55d0669c\")) {                    Plotly.newPlot(                        \"5d94436b-8090-4449-9b77-947e55d0669c\",                        [{\"domain\":{\"x\":[0.0,1.0],\"y\":[0.0,1.0]},\"hovertemplate\":\"label=%{label}\\u003cbr\\u003evalue=%{value}\\u003cextra\\u003e\\u003c\\u002fextra\\u003e\",\"labels\":[\"Domain\",\"IP\",\"IP_C\",\"Cert\",\"ASN\",\"Whois_Name\",\"Whois_Email\",\"Whois_Phone\"],\"legendgroup\":\"\",\"name\":\"\",\"showlegend\":true,\"values\":[32,9,9,7,6,3,3,3],\"type\":\"pie\"}],                        {\"template\":{\"data\":{\"histogram2dcontour\":[{\"type\":\"histogram2dcontour\",\"colorbar\":{\"outlinewidth\":0,\"ticks\":\"\"},\"colorscale\":[[0.0,\"#0d0887\"],[0.1111111111111111,\"#46039f\"],[0.2222222222222222,\"#7201a8\"],[0.3333333333333333,\"#9c179e\"],[0.4444444444444444,\"#bd3786\"],[0.5555555555555556,\"#d8576b\"],[0.6666666666666666,\"#ed7953\"],[0.7777777777777778,\"#fb9f3a\"],[0.8888888888888888,\"#fdca26\"],[1.0,\"#f0f921\"]]}],\"choropleth\":[{\"type\":\"choropleth\",\"colorbar\":{\"outlinewidth\":0,\"ticks\":\"\"}}],\"histogram2d\":[{\"type\":\"histogram2d\",\"colorbar\":{\"outlinewidth\":0,\"ticks\":\"\"},\"colorscale\":[[0.0,\"#0d0887\"],[0.1111111111111111,\"#46039f\"],[0.2222222222222222,\"#7201a8\"],[0.3333333333333333,\"#9c179e\"],[0.4444444444444444,\"#bd3786\"],[0.5555555555555556,\"#d8576b\"],[0.6666666666666666,\"#ed7953\"],[0.7777777777777778,\"#fb9f3a\"],[0.8888888888888888,\"#fdca26\"],[1.0,\"#f0f921\"]]}],\"heatmap\":[{\"type\":\"heatmap\",\"colorbar\":{\"outlinewidth\":0,\"ticks\":\"\"},\"colorscale\":[[0.0,\"#0d0887\"],[0.1111111111111111,\"#46039f\"],[0.2222222222222222,\"#7201a8\"],[0.3333333333333333,\"#9c179e\"],[0.4444444444444444,\"#bd3786\"],[0.5555555555555556,\"#d8576b\"],[0.6666666666666666,\"#ed7953\"],[0.7777777777777778,\"#fb9f3a\"],[0.8888888888888888,\"#fdca26\"],[1.0,\"#f0f921\"]]}],\"heatmapgl\":[{\"type\":\"heatmapgl\",\"colorbar\":{\"outlinewidth\":0,\"ticks\":\"\"},\"colorscale\":[[0.0,\"#0d0887\"],[0.1111111111111111,\"#46039f\"],[0.2222222222222222,\"#7201a8\"],[0.3333333333333333,\"#9c179e\"],[0.4444444444444444,\"#bd3786\"],[0.5555555555555556,\"#d8576b\"],[0.6666666666666666,\"#ed7953\"],[0.7777777777777778,\"#fb9f3a\"],[0.8888888888888888,\"#fdca26\"],[1.0,\"#f0f921\"]]}],\"contourcarpet\":[{\"type\":\"contourcarpet\",\"colorbar\":{\"outlinewidth\":0,\"ticks\":\"\"}}],\"contour\":[{\"type\":\"contour\",\"colorbar\":{\"outlinewidth\":0,\"ticks\":\"\"},\"colorscale\":[[0.0,\"#0d0887\"],[0.1111111111111111,\"#46039f\"],[0.2222222222222222,\"#7201a8\"],[0.3333333333333333,\"#9c179e\"],[0.4444444444444444,\"#bd3786\"],[0.5555555555555556,\"#d8576b\"],[0.6666666666666666,\"#ed7953\"],[0.7777777777777778,\"#fb9f3a\"],[0.8888888888888888,\"#fdca26\"],[1.0,\"#f0f921\"]]}],\"surface\":[{\"type\":\"surface\",\"colorbar\":{\"outlinewidth\":0,\"ticks\":\"\"},\"colorscale\":[[0.0,\"#0d0887\"],[0.1111111111111111,\"#46039f\"],[0.2222222222222222,\"#7201a8\"],[0.3333333333333333,\"#9c179e\"],[0.4444444444444444,\"#bd3786\"],[0.5555555555555556,\"#d8576b\"],[0.6666666666666666,\"#ed7953\"],[0.7777777777777778,\"#fb9f3a\"],[0.8888888888888888,\"#fdca26\"],[1.0,\"#f0f921\"]]}],\"mesh3d\":[{\"type\":\"mesh3d\",\"colorbar\":{\"outlinewidth\":0,\"ticks\":\"\"}}],\"scatter\":[{\"fillpattern\":{\"fillmode\":\"overlay\",\"size\":10,\"solidity\":0.2},\"type\":\"scatter\"}],\"parcoords\":[{\"type\":\"parcoords\",\"line\":{\"colorbar\":{\"outlinewidth\":0,\"ticks\":\"\"}}}],\"scatterpolargl\":[{\"type\":\"scatterpolargl\",\"marker\":{\"colorbar\":{\"outlinewidth\":0,\"ticks\":\"\"}}}],\"bar\":[{\"error_x\":{\"color\":\"#2a3f5f\"},\"error_y\":{\"color\":\"#2a3f5f\"},\"marker\":{\"line\":{\"color\":\"#E5ECF6\",\"width\":0.5},\"pattern\":{\"fillmode\":\"overlay\",\"size\":10,\"solidity\":0.2}},\"type\":\"bar\"}],\"scattergeo\":[{\"type\":\"scattergeo\",\"marker\":{\"colorbar\":{\"outlinewidth\":0,\"ticks\":\"\"}}}],\"scatterpolar\":[{\"type\":\"scatterpolar\",\"marker\":{\"colorbar\":{\"outlinewidth\":0,\"ticks\":\"\"}}}],\"histogram\":[{\"marker\":{\"pattern\":{\"fillmode\":\"overlay\",\"size\":10,\"solidity\":0.2}},\"type\":\"histogram\"}],\"scattergl\":[{\"type\":\"scattergl\",\"marker\":{\"colorbar\":{\"outlinewidth\":0,\"ticks\":\"\"}}}],\"scatter3d\":[{\"type\":\"scatter3d\",\"line\":{\"colorbar\":{\"outlinewidth\":0,\"ticks\":\"\"}},\"marker\":{\"colorbar\":{\"outlinewidth\":0,\"ticks\":\"\"}}}],\"scattermapbox\":[{\"type\":\"scattermapbox\",\"marker\":{\"colorbar\":{\"outlinewidth\":0,\"ticks\":\"\"}}}],\"scatterternary\":[{\"type\":\"scatterternary\",\"marker\":{\"colorbar\":{\"outlinewidth\":0,\"ticks\":\"\"}}}],\"scattercarpet\":[{\"type\":\"scattercarpet\",\"marker\":{\"colorbar\":{\"outlinewidth\":0,\"ticks\":\"\"}}}],\"carpet\":[{\"aaxis\":{\"endlinecolor\":\"#2a3f5f\",\"gridcolor\":\"white\",\"linecolor\":\"white\",\"minorgridcolor\":\"white\",\"startlinecolor\":\"#2a3f5f\"},\"baxis\":{\"endlinecolor\":\"#2a3f5f\",\"gridcolor\":\"white\",\"linecolor\":\"white\",\"minorgridcolor\":\"white\",\"startlinecolor\":\"#2a3f5f\"},\"type\":\"carpet\"}],\"table\":[{\"cells\":{\"fill\":{\"color\":\"#EBF0F8\"},\"line\":{\"color\":\"white\"}},\"header\":{\"fill\":{\"color\":\"#C8D4E3\"},\"line\":{\"color\":\"white\"}},\"type\":\"table\"}],\"barpolar\":[{\"marker\":{\"line\":{\"color\":\"#E5ECF6\",\"width\":0.5},\"pattern\":{\"fillmode\":\"overlay\",\"size\":10,\"solidity\":0.2}},\"type\":\"barpolar\"}],\"pie\":[{\"automargin\":true,\"type\":\"pie\"}]},\"layout\":{\"autotypenumbers\":\"strict\",\"colorway\":[\"#636efa\",\"#EF553B\",\"#00cc96\",\"#ab63fa\",\"#FFA15A\",\"#19d3f3\",\"#FF6692\",\"#B6E880\",\"#FF97FF\",\"#FECB52\"],\"font\":{\"color\":\"#2a3f5f\"},\"hovermode\":\"closest\",\"hoverlabel\":{\"align\":\"left\"},\"paper_bgcolor\":\"white\",\"plot_bgcolor\":\"#E5ECF6\",\"polar\":{\"bgcolor\":\"#E5ECF6\",\"angularaxis\":{\"gridcolor\":\"white\",\"linecolor\":\"white\",\"ticks\":\"\"},\"radialaxis\":{\"gridcolor\":\"white\",\"linecolor\":\"white\",\"ticks\":\"\"}},\"ternary\":{\"bgcolor\":\"#E5ECF6\",\"aaxis\":{\"gridcolor\":\"white\",\"linecolor\":\"white\",\"ticks\":\"\"},\"baxis\":{\"gridcolor\":\"white\",\"linecolor\":\"white\",\"ticks\":\"\"},\"caxis\":{\"gridcolor\":\"white\",\"linecolor\":\"white\",\"ticks\":\"\"}},\"coloraxis\":{\"colorbar\":{\"outlinewidth\":0,\"ticks\":\"\"}},\"colorscale\":{\"sequential\":[[0.0,\"#0d0887\"],[0.1111111111111111,\"#46039f\"],[0.2222222222222222,\"#7201a8\"],[0.3333333333333333,\"#9c179e\"],[0.4444444444444444,\"#bd3786\"],[0.5555555555555556,\"#d8576b\"],[0.6666666666666666,\"#ed7953\"],[0.7777777777777778,\"#fb9f3a\"],[0.8888888888888888,\"#fdca26\"],[1.0,\"#f0f921\"]],\"sequentialminus\":[[0.0,\"#0d0887\"],[0.1111111111111111,\"#46039f\"],[0.2222222222222222,\"#7201a8\"],[0.3333333333333333,\"#9c179e\"],[0.4444444444444444,\"#bd3786\"],[0.5555555555555556,\"#d8576b\"],[0.6666666666666666,\"#ed7953\"],[0.7777777777777778,\"#fb9f3a\"],[0.8888888888888888,\"#fdca26\"],[1.0,\"#f0f921\"]],\"diverging\":[[0,\"#8e0152\"],[0.1,\"#c51b7d\"],[0.2,\"#de77ae\"],[0.3,\"#f1b6da\"],[0.4,\"#fde0ef\"],[0.5,\"#f7f7f7\"],[0.6,\"#e6f5d0\"],[0.7,\"#b8e186\"],[0.8,\"#7fbc41\"],[0.9,\"#4d9221\"],[1,\"#276419\"]]},\"xaxis\":{\"gridcolor\":\"white\",\"linecolor\":\"white\",\"ticks\":\"\",\"title\":{\"standoff\":15},\"zerolinecolor\":\"white\",\"automargin\":true,\"zerolinewidth\":2},\"yaxis\":{\"gridcolor\":\"white\",\"linecolor\":\"white\",\"ticks\":\"\",\"title\":{\"standoff\":15},\"zerolinecolor\":\"white\",\"automargin\":true,\"zerolinewidth\":2},\"scene\":{\"xaxis\":{\"backgroundcolor\":\"#E5ECF6\",\"gridcolor\":\"white\",\"linecolor\":\"white\",\"showbackground\":true,\"ticks\":\"\",\"zerolinecolor\":\"white\",\"gridwidth\":2},\"yaxis\":{\"backgroundcolor\":\"#E5ECF6\",\"gridcolor\":\"white\",\"linecolor\":\"white\",\"showbackground\":true,\"ticks\":\"\",\"zerolinecolor\":\"white\",\"gridwidth\":2},\"zaxis\":{\"backgroundcolor\":\"#E5ECF6\",\"gridcolor\":\"white\",\"linecolor\":\"white\",\"showbackground\":true,\"ticks\":\"\",\"zerolinecolor\":\"white\",\"gridwidth\":2}},\"shapedefaults\":{\"line\":{\"color\":\"#2a3f5f\"}},\"annotationdefaults\":{\"arrowcolor\":\"#2a3f5f\",\"arrowhead\":0,\"arrowwidth\":1},\"geo\":{\"bgcolor\":\"white\",\"landcolor\":\"#E5ECF6\",\"subunitcolor\":\"white\",\"showland\":true,\"showlakes\":true,\"lakecolor\":\"white\"},\"title\":{\"x\":0.05},\"mapbox\":{\"style\":\"light\"}}},\"legend\":{\"tracegroupgap\":0},\"title\":{\"text\":\"Type Composition\"}},                        {\"responsive\": true}                    ).then(function(){\n",
       "                            \n",
       "var gd = document.getElementById('5d94436b-8090-4449-9b77-947e55d0669c');\n",
       "var x = new MutationObserver(function (mutations, observer) {{\n",
       "        var display = window.getComputedStyle(gd).display;\n",
       "        if (!display || display === 'none') {{\n",
       "            console.log([gd, 'removed!']);\n",
       "            Plotly.purge(gd);\n",
       "            observer.disconnect();\n",
       "        }}\n",
       "}});\n",
       "\n",
       "// Listen for the removal of the full notebook cells\n",
       "var notebookContainer = gd.closest('#notebook-container');\n",
       "if (notebookContainer) {{\n",
       "    x.observe(notebookContainer, {childList: true});\n",
       "}}\n",
       "\n",
       "// Listen for the clearing of the current output cell\n",
       "var outputEl = gd.closest('.output');\n",
       "if (outputEl) {{\n",
       "    x.observe(outputEl, {childList: true});\n",
       "}}\n",
       "\n",
       "                        })                };                });            </script>        </div>"
      ]
     },
     "metadata": {},
     "output_type": "display_data"
    }
   ],
   "execution_count": 24
  },
  {
   "metadata": {},
   "cell_type": "code",
   "outputs": [],
   "execution_count": null,
   "source": "",
   "id": "890ae89e2b67c781"
  },
  {
   "metadata": {
    "ExecuteTime": {
     "end_time": "2024-05-14T02:19:33.337861Z",
     "start_time": "2024-05-14T02:19:33.335877Z"
    }
   },
   "cell_type": "code",
   "source": "print(nodes_df.columns)",
   "id": "db04a1e0950d966f",
   "outputs": [
    {
     "name": "stdout",
     "output_type": "stream",
     "text": [
      "Index(['id', 'name', 'type', 'industry'], dtype='object')\n"
     ]
    }
   ],
   "execution_count": 8
  },
  {
   "metadata": {
    "ExecuteTime": {
     "end_time": "2024-05-14T02:28:45.696194Z",
     "start_time": "2024-05-14T02:28:45.625928Z"
    }
   },
   "cell_type": "code",
   "source": [
    "df = px.data.gapminder().query(\"year == 2007\").query(\"continent == 'Americas'\")\n",
    "fig = px.pie(df, values='pop', names='country',\n",
    "             title='Population of American continent',\n",
    "             hover_data=['lifeExp'], labels={'lifeExp':'life expectancy'})\n",
    "fig.update_traces(textposition='inside', textinfo='percent+label')\n",
    "fig.show()"
   ],
   "id": "ce4e85cd602d1f62",
   "outputs": [
    {
     "data": {
      "application/vnd.plotly.v1+json": {
       "data": [
        {
         "customdata": [
          [
           75.32
          ],
          [
           65.554
          ],
          [
           72.39
          ],
          [
           80.653
          ],
          [
           78.553
          ],
          [
           72.889
          ],
          [
           78.782
          ],
          [
           78.273
          ],
          [
           72.235
          ],
          [
           74.994
          ],
          [
           71.878
          ],
          [
           70.259
          ],
          [
           60.916
          ],
          [
           70.19800000000001
          ],
          [
           72.567
          ],
          [
           76.195
          ],
          [
           72.899
          ],
          [
           75.53699999999998
          ],
          [
           71.752
          ],
          [
           71.421
          ],
          [
           78.74600000000002
          ],
          [
           69.819
          ],
          [
           78.242
          ],
          [
           76.384
          ],
          [
           73.747
          ]
         ],
         "domain": {
          "x": [
           0.0,
           1.0
          ],
          "y": [
           0.0,
           1.0
          ]
         },
         "hovertemplate": "country=%{label}<br>pop=%{value}<br>life expectancy=%{customdata[0]}<extra></extra>",
         "labels": [
          "Argentina",
          "Bolivia",
          "Brazil",
          "Canada",
          "Chile",
          "Colombia",
          "Costa Rica",
          "Cuba",
          "Dominican Republic",
          "Ecuador",
          "El Salvador",
          "Guatemala",
          "Haiti",
          "Honduras",
          "Jamaica",
          "Mexico",
          "Nicaragua",
          "Panama",
          "Paraguay",
          "Peru",
          "Puerto Rico",
          "Trinidad and Tobago",
          "United States",
          "Uruguay",
          "Venezuela"
         ],
         "legendgroup": "",
         "name": "",
         "showlegend": true,
         "values": [
          40301927,
          9119152,
          190010647,
          33390141,
          16284741,
          44227550,
          4133884,
          11416987,
          9319622,
          13755680,
          6939688,
          12572928,
          8502814,
          7483763,
          2780132,
          108700891,
          5675356,
          3242173,
          6667147,
          28674757,
          3942491,
          1056608,
          301139947,
          3447496,
          26084662
         ],
         "type": "pie",
         "textinfo": "percent+label",
         "textposition": "inside"
        }
       ],
       "layout": {
        "template": {
         "data": {
          "histogram2dcontour": [
           {
            "type": "histogram2dcontour",
            "colorbar": {
             "outlinewidth": 0,
             "ticks": ""
            },
            "colorscale": [
             [
              0.0,
              "#0d0887"
             ],
             [
              0.1111111111111111,
              "#46039f"
             ],
             [
              0.2222222222222222,
              "#7201a8"
             ],
             [
              0.3333333333333333,
              "#9c179e"
             ],
             [
              0.4444444444444444,
              "#bd3786"
             ],
             [
              0.5555555555555556,
              "#d8576b"
             ],
             [
              0.6666666666666666,
              "#ed7953"
             ],
             [
              0.7777777777777778,
              "#fb9f3a"
             ],
             [
              0.8888888888888888,
              "#fdca26"
             ],
             [
              1.0,
              "#f0f921"
             ]
            ]
           }
          ],
          "choropleth": [
           {
            "type": "choropleth",
            "colorbar": {
             "outlinewidth": 0,
             "ticks": ""
            }
           }
          ],
          "histogram2d": [
           {
            "type": "histogram2d",
            "colorbar": {
             "outlinewidth": 0,
             "ticks": ""
            },
            "colorscale": [
             [
              0.0,
              "#0d0887"
             ],
             [
              0.1111111111111111,
              "#46039f"
             ],
             [
              0.2222222222222222,
              "#7201a8"
             ],
             [
              0.3333333333333333,
              "#9c179e"
             ],
             [
              0.4444444444444444,
              "#bd3786"
             ],
             [
              0.5555555555555556,
              "#d8576b"
             ],
             [
              0.6666666666666666,
              "#ed7953"
             ],
             [
              0.7777777777777778,
              "#fb9f3a"
             ],
             [
              0.8888888888888888,
              "#fdca26"
             ],
             [
              1.0,
              "#f0f921"
             ]
            ]
           }
          ],
          "heatmap": [
           {
            "type": "heatmap",
            "colorbar": {
             "outlinewidth": 0,
             "ticks": ""
            },
            "colorscale": [
             [
              0.0,
              "#0d0887"
             ],
             [
              0.1111111111111111,
              "#46039f"
             ],
             [
              0.2222222222222222,
              "#7201a8"
             ],
             [
              0.3333333333333333,
              "#9c179e"
             ],
             [
              0.4444444444444444,
              "#bd3786"
             ],
             [
              0.5555555555555556,
              "#d8576b"
             ],
             [
              0.6666666666666666,
              "#ed7953"
             ],
             [
              0.7777777777777778,
              "#fb9f3a"
             ],
             [
              0.8888888888888888,
              "#fdca26"
             ],
             [
              1.0,
              "#f0f921"
             ]
            ]
           }
          ],
          "heatmapgl": [
           {
            "type": "heatmapgl",
            "colorbar": {
             "outlinewidth": 0,
             "ticks": ""
            },
            "colorscale": [
             [
              0.0,
              "#0d0887"
             ],
             [
              0.1111111111111111,
              "#46039f"
             ],
             [
              0.2222222222222222,
              "#7201a8"
             ],
             [
              0.3333333333333333,
              "#9c179e"
             ],
             [
              0.4444444444444444,
              "#bd3786"
             ],
             [
              0.5555555555555556,
              "#d8576b"
             ],
             [
              0.6666666666666666,
              "#ed7953"
             ],
             [
              0.7777777777777778,
              "#fb9f3a"
             ],
             [
              0.8888888888888888,
              "#fdca26"
             ],
             [
              1.0,
              "#f0f921"
             ]
            ]
           }
          ],
          "contourcarpet": [
           {
            "type": "contourcarpet",
            "colorbar": {
             "outlinewidth": 0,
             "ticks": ""
            }
           }
          ],
          "contour": [
           {
            "type": "contour",
            "colorbar": {
             "outlinewidth": 0,
             "ticks": ""
            },
            "colorscale": [
             [
              0.0,
              "#0d0887"
             ],
             [
              0.1111111111111111,
              "#46039f"
             ],
             [
              0.2222222222222222,
              "#7201a8"
             ],
             [
              0.3333333333333333,
              "#9c179e"
             ],
             [
              0.4444444444444444,
              "#bd3786"
             ],
             [
              0.5555555555555556,
              "#d8576b"
             ],
             [
              0.6666666666666666,
              "#ed7953"
             ],
             [
              0.7777777777777778,
              "#fb9f3a"
             ],
             [
              0.8888888888888888,
              "#fdca26"
             ],
             [
              1.0,
              "#f0f921"
             ]
            ]
           }
          ],
          "surface": [
           {
            "type": "surface",
            "colorbar": {
             "outlinewidth": 0,
             "ticks": ""
            },
            "colorscale": [
             [
              0.0,
              "#0d0887"
             ],
             [
              0.1111111111111111,
              "#46039f"
             ],
             [
              0.2222222222222222,
              "#7201a8"
             ],
             [
              0.3333333333333333,
              "#9c179e"
             ],
             [
              0.4444444444444444,
              "#bd3786"
             ],
             [
              0.5555555555555556,
              "#d8576b"
             ],
             [
              0.6666666666666666,
              "#ed7953"
             ],
             [
              0.7777777777777778,
              "#fb9f3a"
             ],
             [
              0.8888888888888888,
              "#fdca26"
             ],
             [
              1.0,
              "#f0f921"
             ]
            ]
           }
          ],
          "mesh3d": [
           {
            "type": "mesh3d",
            "colorbar": {
             "outlinewidth": 0,
             "ticks": ""
            }
           }
          ],
          "scatter": [
           {
            "fillpattern": {
             "fillmode": "overlay",
             "size": 10,
             "solidity": 0.2
            },
            "type": "scatter"
           }
          ],
          "parcoords": [
           {
            "type": "parcoords",
            "line": {
             "colorbar": {
              "outlinewidth": 0,
              "ticks": ""
             }
            }
           }
          ],
          "scatterpolargl": [
           {
            "type": "scatterpolargl",
            "marker": {
             "colorbar": {
              "outlinewidth": 0,
              "ticks": ""
             }
            }
           }
          ],
          "bar": [
           {
            "error_x": {
             "color": "#2a3f5f"
            },
            "error_y": {
             "color": "#2a3f5f"
            },
            "marker": {
             "line": {
              "color": "#E5ECF6",
              "width": 0.5
             },
             "pattern": {
              "fillmode": "overlay",
              "size": 10,
              "solidity": 0.2
             }
            },
            "type": "bar"
           }
          ],
          "scattergeo": [
           {
            "type": "scattergeo",
            "marker": {
             "colorbar": {
              "outlinewidth": 0,
              "ticks": ""
             }
            }
           }
          ],
          "scatterpolar": [
           {
            "type": "scatterpolar",
            "marker": {
             "colorbar": {
              "outlinewidth": 0,
              "ticks": ""
             }
            }
           }
          ],
          "histogram": [
           {
            "marker": {
             "pattern": {
              "fillmode": "overlay",
              "size": 10,
              "solidity": 0.2
             }
            },
            "type": "histogram"
           }
          ],
          "scattergl": [
           {
            "type": "scattergl",
            "marker": {
             "colorbar": {
              "outlinewidth": 0,
              "ticks": ""
             }
            }
           }
          ],
          "scatter3d": [
           {
            "type": "scatter3d",
            "line": {
             "colorbar": {
              "outlinewidth": 0,
              "ticks": ""
             }
            },
            "marker": {
             "colorbar": {
              "outlinewidth": 0,
              "ticks": ""
             }
            }
           }
          ],
          "scattermapbox": [
           {
            "type": "scattermapbox",
            "marker": {
             "colorbar": {
              "outlinewidth": 0,
              "ticks": ""
             }
            }
           }
          ],
          "scatterternary": [
           {
            "type": "scatterternary",
            "marker": {
             "colorbar": {
              "outlinewidth": 0,
              "ticks": ""
             }
            }
           }
          ],
          "scattercarpet": [
           {
            "type": "scattercarpet",
            "marker": {
             "colorbar": {
              "outlinewidth": 0,
              "ticks": ""
             }
            }
           }
          ],
          "carpet": [
           {
            "aaxis": {
             "endlinecolor": "#2a3f5f",
             "gridcolor": "white",
             "linecolor": "white",
             "minorgridcolor": "white",
             "startlinecolor": "#2a3f5f"
            },
            "baxis": {
             "endlinecolor": "#2a3f5f",
             "gridcolor": "white",
             "linecolor": "white",
             "minorgridcolor": "white",
             "startlinecolor": "#2a3f5f"
            },
            "type": "carpet"
           }
          ],
          "table": [
           {
            "cells": {
             "fill": {
              "color": "#EBF0F8"
             },
             "line": {
              "color": "white"
             }
            },
            "header": {
             "fill": {
              "color": "#C8D4E3"
             },
             "line": {
              "color": "white"
             }
            },
            "type": "table"
           }
          ],
          "barpolar": [
           {
            "marker": {
             "line": {
              "color": "#E5ECF6",
              "width": 0.5
             },
             "pattern": {
              "fillmode": "overlay",
              "size": 10,
              "solidity": 0.2
             }
            },
            "type": "barpolar"
           }
          ],
          "pie": [
           {
            "automargin": true,
            "type": "pie"
           }
          ]
         },
         "layout": {
          "autotypenumbers": "strict",
          "colorway": [
           "#636efa",
           "#EF553B",
           "#00cc96",
           "#ab63fa",
           "#FFA15A",
           "#19d3f3",
           "#FF6692",
           "#B6E880",
           "#FF97FF",
           "#FECB52"
          ],
          "font": {
           "color": "#2a3f5f"
          },
          "hovermode": "closest",
          "hoverlabel": {
           "align": "left"
          },
          "paper_bgcolor": "white",
          "plot_bgcolor": "#E5ECF6",
          "polar": {
           "bgcolor": "#E5ECF6",
           "angularaxis": {
            "gridcolor": "white",
            "linecolor": "white",
            "ticks": ""
           },
           "radialaxis": {
            "gridcolor": "white",
            "linecolor": "white",
            "ticks": ""
           }
          },
          "ternary": {
           "bgcolor": "#E5ECF6",
           "aaxis": {
            "gridcolor": "white",
            "linecolor": "white",
            "ticks": ""
           },
           "baxis": {
            "gridcolor": "white",
            "linecolor": "white",
            "ticks": ""
           },
           "caxis": {
            "gridcolor": "white",
            "linecolor": "white",
            "ticks": ""
           }
          },
          "coloraxis": {
           "colorbar": {
            "outlinewidth": 0,
            "ticks": ""
           }
          },
          "colorscale": {
           "sequential": [
            [
             0.0,
             "#0d0887"
            ],
            [
             0.1111111111111111,
             "#46039f"
            ],
            [
             0.2222222222222222,
             "#7201a8"
            ],
            [
             0.3333333333333333,
             "#9c179e"
            ],
            [
             0.4444444444444444,
             "#bd3786"
            ],
            [
             0.5555555555555556,
             "#d8576b"
            ],
            [
             0.6666666666666666,
             "#ed7953"
            ],
            [
             0.7777777777777778,
             "#fb9f3a"
            ],
            [
             0.8888888888888888,
             "#fdca26"
            ],
            [
             1.0,
             "#f0f921"
            ]
           ],
           "sequentialminus": [
            [
             0.0,
             "#0d0887"
            ],
            [
             0.1111111111111111,
             "#46039f"
            ],
            [
             0.2222222222222222,
             "#7201a8"
            ],
            [
             0.3333333333333333,
             "#9c179e"
            ],
            [
             0.4444444444444444,
             "#bd3786"
            ],
            [
             0.5555555555555556,
             "#d8576b"
            ],
            [
             0.6666666666666666,
             "#ed7953"
            ],
            [
             0.7777777777777778,
             "#fb9f3a"
            ],
            [
             0.8888888888888888,
             "#fdca26"
            ],
            [
             1.0,
             "#f0f921"
            ]
           ],
           "diverging": [
            [
             0,
             "#8e0152"
            ],
            [
             0.1,
             "#c51b7d"
            ],
            [
             0.2,
             "#de77ae"
            ],
            [
             0.3,
             "#f1b6da"
            ],
            [
             0.4,
             "#fde0ef"
            ],
            [
             0.5,
             "#f7f7f7"
            ],
            [
             0.6,
             "#e6f5d0"
            ],
            [
             0.7,
             "#b8e186"
            ],
            [
             0.8,
             "#7fbc41"
            ],
            [
             0.9,
             "#4d9221"
            ],
            [
             1,
             "#276419"
            ]
           ]
          },
          "xaxis": {
           "gridcolor": "white",
           "linecolor": "white",
           "ticks": "",
           "title": {
            "standoff": 15
           },
           "zerolinecolor": "white",
           "automargin": true,
           "zerolinewidth": 2
          },
          "yaxis": {
           "gridcolor": "white",
           "linecolor": "white",
           "ticks": "",
           "title": {
            "standoff": 15
           },
           "zerolinecolor": "white",
           "automargin": true,
           "zerolinewidth": 2
          },
          "scene": {
           "xaxis": {
            "backgroundcolor": "#E5ECF6",
            "gridcolor": "white",
            "linecolor": "white",
            "showbackground": true,
            "ticks": "",
            "zerolinecolor": "white",
            "gridwidth": 2
           },
           "yaxis": {
            "backgroundcolor": "#E5ECF6",
            "gridcolor": "white",
            "linecolor": "white",
            "showbackground": true,
            "ticks": "",
            "zerolinecolor": "white",
            "gridwidth": 2
           },
           "zaxis": {
            "backgroundcolor": "#E5ECF6",
            "gridcolor": "white",
            "linecolor": "white",
            "showbackground": true,
            "ticks": "",
            "zerolinecolor": "white",
            "gridwidth": 2
           }
          },
          "shapedefaults": {
           "line": {
            "color": "#2a3f5f"
           }
          },
          "annotationdefaults": {
           "arrowcolor": "#2a3f5f",
           "arrowhead": 0,
           "arrowwidth": 1
          },
          "geo": {
           "bgcolor": "white",
           "landcolor": "#E5ECF6",
           "subunitcolor": "white",
           "showland": true,
           "showlakes": true,
           "lakecolor": "white"
          },
          "title": {
           "x": 0.05
          },
          "mapbox": {
           "style": "light"
          }
         }
        },
        "legend": {
         "tracegroupgap": 0
        },
        "title": {
         "text": "Population of American continent"
        }
       },
       "config": {
        "plotlyServerURL": "https://plot.ly"
       }
      },
      "text/html": [
       "<div>                            <div id=\"08e81912-0d2b-4100-9a34-1375a17b4185\" class=\"plotly-graph-div\" style=\"height:525px; width:100%;\"></div>            <script type=\"text/javascript\">                require([\"plotly\"], function(Plotly) {                    window.PLOTLYENV=window.PLOTLYENV || {};                                    if (document.getElementById(\"08e81912-0d2b-4100-9a34-1375a17b4185\")) {                    Plotly.newPlot(                        \"08e81912-0d2b-4100-9a34-1375a17b4185\",                        [{\"customdata\":[[75.32],[65.554],[72.39],[80.653],[78.553],[72.889],[78.782],[78.273],[72.235],[74.994],[71.878],[70.259],[60.916],[70.19800000000001],[72.567],[76.195],[72.899],[75.53699999999998],[71.752],[71.421],[78.74600000000002],[69.819],[78.242],[76.384],[73.747]],\"domain\":{\"x\":[0.0,1.0],\"y\":[0.0,1.0]},\"hovertemplate\":\"country=%{label}\\u003cbr\\u003epop=%{value}\\u003cbr\\u003elife expectancy=%{customdata[0]}\\u003cextra\\u003e\\u003c\\u002fextra\\u003e\",\"labels\":[\"Argentina\",\"Bolivia\",\"Brazil\",\"Canada\",\"Chile\",\"Colombia\",\"Costa Rica\",\"Cuba\",\"Dominican Republic\",\"Ecuador\",\"El Salvador\",\"Guatemala\",\"Haiti\",\"Honduras\",\"Jamaica\",\"Mexico\",\"Nicaragua\",\"Panama\",\"Paraguay\",\"Peru\",\"Puerto Rico\",\"Trinidad and Tobago\",\"United States\",\"Uruguay\",\"Venezuela\"],\"legendgroup\":\"\",\"name\":\"\",\"showlegend\":true,\"values\":[40301927,9119152,190010647,33390141,16284741,44227550,4133884,11416987,9319622,13755680,6939688,12572928,8502814,7483763,2780132,108700891,5675356,3242173,6667147,28674757,3942491,1056608,301139947,3447496,26084662],\"type\":\"pie\",\"textinfo\":\"percent+label\",\"textposition\":\"inside\"}],                        {\"template\":{\"data\":{\"histogram2dcontour\":[{\"type\":\"histogram2dcontour\",\"colorbar\":{\"outlinewidth\":0,\"ticks\":\"\"},\"colorscale\":[[0.0,\"#0d0887\"],[0.1111111111111111,\"#46039f\"],[0.2222222222222222,\"#7201a8\"],[0.3333333333333333,\"#9c179e\"],[0.4444444444444444,\"#bd3786\"],[0.5555555555555556,\"#d8576b\"],[0.6666666666666666,\"#ed7953\"],[0.7777777777777778,\"#fb9f3a\"],[0.8888888888888888,\"#fdca26\"],[1.0,\"#f0f921\"]]}],\"choropleth\":[{\"type\":\"choropleth\",\"colorbar\":{\"outlinewidth\":0,\"ticks\":\"\"}}],\"histogram2d\":[{\"type\":\"histogram2d\",\"colorbar\":{\"outlinewidth\":0,\"ticks\":\"\"},\"colorscale\":[[0.0,\"#0d0887\"],[0.1111111111111111,\"#46039f\"],[0.2222222222222222,\"#7201a8\"],[0.3333333333333333,\"#9c179e\"],[0.4444444444444444,\"#bd3786\"],[0.5555555555555556,\"#d8576b\"],[0.6666666666666666,\"#ed7953\"],[0.7777777777777778,\"#fb9f3a\"],[0.8888888888888888,\"#fdca26\"],[1.0,\"#f0f921\"]]}],\"heatmap\":[{\"type\":\"heatmap\",\"colorbar\":{\"outlinewidth\":0,\"ticks\":\"\"},\"colorscale\":[[0.0,\"#0d0887\"],[0.1111111111111111,\"#46039f\"],[0.2222222222222222,\"#7201a8\"],[0.3333333333333333,\"#9c179e\"],[0.4444444444444444,\"#bd3786\"],[0.5555555555555556,\"#d8576b\"],[0.6666666666666666,\"#ed7953\"],[0.7777777777777778,\"#fb9f3a\"],[0.8888888888888888,\"#fdca26\"],[1.0,\"#f0f921\"]]}],\"heatmapgl\":[{\"type\":\"heatmapgl\",\"colorbar\":{\"outlinewidth\":0,\"ticks\":\"\"},\"colorscale\":[[0.0,\"#0d0887\"],[0.1111111111111111,\"#46039f\"],[0.2222222222222222,\"#7201a8\"],[0.3333333333333333,\"#9c179e\"],[0.4444444444444444,\"#bd3786\"],[0.5555555555555556,\"#d8576b\"],[0.6666666666666666,\"#ed7953\"],[0.7777777777777778,\"#fb9f3a\"],[0.8888888888888888,\"#fdca26\"],[1.0,\"#f0f921\"]]}],\"contourcarpet\":[{\"type\":\"contourcarpet\",\"colorbar\":{\"outlinewidth\":0,\"ticks\":\"\"}}],\"contour\":[{\"type\":\"contour\",\"colorbar\":{\"outlinewidth\":0,\"ticks\":\"\"},\"colorscale\":[[0.0,\"#0d0887\"],[0.1111111111111111,\"#46039f\"],[0.2222222222222222,\"#7201a8\"],[0.3333333333333333,\"#9c179e\"],[0.4444444444444444,\"#bd3786\"],[0.5555555555555556,\"#d8576b\"],[0.6666666666666666,\"#ed7953\"],[0.7777777777777778,\"#fb9f3a\"],[0.8888888888888888,\"#fdca26\"],[1.0,\"#f0f921\"]]}],\"surface\":[{\"type\":\"surface\",\"colorbar\":{\"outlinewidth\":0,\"ticks\":\"\"},\"colorscale\":[[0.0,\"#0d0887\"],[0.1111111111111111,\"#46039f\"],[0.2222222222222222,\"#7201a8\"],[0.3333333333333333,\"#9c179e\"],[0.4444444444444444,\"#bd3786\"],[0.5555555555555556,\"#d8576b\"],[0.6666666666666666,\"#ed7953\"],[0.7777777777777778,\"#fb9f3a\"],[0.8888888888888888,\"#fdca26\"],[1.0,\"#f0f921\"]]}],\"mesh3d\":[{\"type\":\"mesh3d\",\"colorbar\":{\"outlinewidth\":0,\"ticks\":\"\"}}],\"scatter\":[{\"fillpattern\":{\"fillmode\":\"overlay\",\"size\":10,\"solidity\":0.2},\"type\":\"scatter\"}],\"parcoords\":[{\"type\":\"parcoords\",\"line\":{\"colorbar\":{\"outlinewidth\":0,\"ticks\":\"\"}}}],\"scatterpolargl\":[{\"type\":\"scatterpolargl\",\"marker\":{\"colorbar\":{\"outlinewidth\":0,\"ticks\":\"\"}}}],\"bar\":[{\"error_x\":{\"color\":\"#2a3f5f\"},\"error_y\":{\"color\":\"#2a3f5f\"},\"marker\":{\"line\":{\"color\":\"#E5ECF6\",\"width\":0.5},\"pattern\":{\"fillmode\":\"overlay\",\"size\":10,\"solidity\":0.2}},\"type\":\"bar\"}],\"scattergeo\":[{\"type\":\"scattergeo\",\"marker\":{\"colorbar\":{\"outlinewidth\":0,\"ticks\":\"\"}}}],\"scatterpolar\":[{\"type\":\"scatterpolar\",\"marker\":{\"colorbar\":{\"outlinewidth\":0,\"ticks\":\"\"}}}],\"histogram\":[{\"marker\":{\"pattern\":{\"fillmode\":\"overlay\",\"size\":10,\"solidity\":0.2}},\"type\":\"histogram\"}],\"scattergl\":[{\"type\":\"scattergl\",\"marker\":{\"colorbar\":{\"outlinewidth\":0,\"ticks\":\"\"}}}],\"scatter3d\":[{\"type\":\"scatter3d\",\"line\":{\"colorbar\":{\"outlinewidth\":0,\"ticks\":\"\"}},\"marker\":{\"colorbar\":{\"outlinewidth\":0,\"ticks\":\"\"}}}],\"scattermapbox\":[{\"type\":\"scattermapbox\",\"marker\":{\"colorbar\":{\"outlinewidth\":0,\"ticks\":\"\"}}}],\"scatterternary\":[{\"type\":\"scatterternary\",\"marker\":{\"colorbar\":{\"outlinewidth\":0,\"ticks\":\"\"}}}],\"scattercarpet\":[{\"type\":\"scattercarpet\",\"marker\":{\"colorbar\":{\"outlinewidth\":0,\"ticks\":\"\"}}}],\"carpet\":[{\"aaxis\":{\"endlinecolor\":\"#2a3f5f\",\"gridcolor\":\"white\",\"linecolor\":\"white\",\"minorgridcolor\":\"white\",\"startlinecolor\":\"#2a3f5f\"},\"baxis\":{\"endlinecolor\":\"#2a3f5f\",\"gridcolor\":\"white\",\"linecolor\":\"white\",\"minorgridcolor\":\"white\",\"startlinecolor\":\"#2a3f5f\"},\"type\":\"carpet\"}],\"table\":[{\"cells\":{\"fill\":{\"color\":\"#EBF0F8\"},\"line\":{\"color\":\"white\"}},\"header\":{\"fill\":{\"color\":\"#C8D4E3\"},\"line\":{\"color\":\"white\"}},\"type\":\"table\"}],\"barpolar\":[{\"marker\":{\"line\":{\"color\":\"#E5ECF6\",\"width\":0.5},\"pattern\":{\"fillmode\":\"overlay\",\"size\":10,\"solidity\":0.2}},\"type\":\"barpolar\"}],\"pie\":[{\"automargin\":true,\"type\":\"pie\"}]},\"layout\":{\"autotypenumbers\":\"strict\",\"colorway\":[\"#636efa\",\"#EF553B\",\"#00cc96\",\"#ab63fa\",\"#FFA15A\",\"#19d3f3\",\"#FF6692\",\"#B6E880\",\"#FF97FF\",\"#FECB52\"],\"font\":{\"color\":\"#2a3f5f\"},\"hovermode\":\"closest\",\"hoverlabel\":{\"align\":\"left\"},\"paper_bgcolor\":\"white\",\"plot_bgcolor\":\"#E5ECF6\",\"polar\":{\"bgcolor\":\"#E5ECF6\",\"angularaxis\":{\"gridcolor\":\"white\",\"linecolor\":\"white\",\"ticks\":\"\"},\"radialaxis\":{\"gridcolor\":\"white\",\"linecolor\":\"white\",\"ticks\":\"\"}},\"ternary\":{\"bgcolor\":\"#E5ECF6\",\"aaxis\":{\"gridcolor\":\"white\",\"linecolor\":\"white\",\"ticks\":\"\"},\"baxis\":{\"gridcolor\":\"white\",\"linecolor\":\"white\",\"ticks\":\"\"},\"caxis\":{\"gridcolor\":\"white\",\"linecolor\":\"white\",\"ticks\":\"\"}},\"coloraxis\":{\"colorbar\":{\"outlinewidth\":0,\"ticks\":\"\"}},\"colorscale\":{\"sequential\":[[0.0,\"#0d0887\"],[0.1111111111111111,\"#46039f\"],[0.2222222222222222,\"#7201a8\"],[0.3333333333333333,\"#9c179e\"],[0.4444444444444444,\"#bd3786\"],[0.5555555555555556,\"#d8576b\"],[0.6666666666666666,\"#ed7953\"],[0.7777777777777778,\"#fb9f3a\"],[0.8888888888888888,\"#fdca26\"],[1.0,\"#f0f921\"]],\"sequentialminus\":[[0.0,\"#0d0887\"],[0.1111111111111111,\"#46039f\"],[0.2222222222222222,\"#7201a8\"],[0.3333333333333333,\"#9c179e\"],[0.4444444444444444,\"#bd3786\"],[0.5555555555555556,\"#d8576b\"],[0.6666666666666666,\"#ed7953\"],[0.7777777777777778,\"#fb9f3a\"],[0.8888888888888888,\"#fdca26\"],[1.0,\"#f0f921\"]],\"diverging\":[[0,\"#8e0152\"],[0.1,\"#c51b7d\"],[0.2,\"#de77ae\"],[0.3,\"#f1b6da\"],[0.4,\"#fde0ef\"],[0.5,\"#f7f7f7\"],[0.6,\"#e6f5d0\"],[0.7,\"#b8e186\"],[0.8,\"#7fbc41\"],[0.9,\"#4d9221\"],[1,\"#276419\"]]},\"xaxis\":{\"gridcolor\":\"white\",\"linecolor\":\"white\",\"ticks\":\"\",\"title\":{\"standoff\":15},\"zerolinecolor\":\"white\",\"automargin\":true,\"zerolinewidth\":2},\"yaxis\":{\"gridcolor\":\"white\",\"linecolor\":\"white\",\"ticks\":\"\",\"title\":{\"standoff\":15},\"zerolinecolor\":\"white\",\"automargin\":true,\"zerolinewidth\":2},\"scene\":{\"xaxis\":{\"backgroundcolor\":\"#E5ECF6\",\"gridcolor\":\"white\",\"linecolor\":\"white\",\"showbackground\":true,\"ticks\":\"\",\"zerolinecolor\":\"white\",\"gridwidth\":2},\"yaxis\":{\"backgroundcolor\":\"#E5ECF6\",\"gridcolor\":\"white\",\"linecolor\":\"white\",\"showbackground\":true,\"ticks\":\"\",\"zerolinecolor\":\"white\",\"gridwidth\":2},\"zaxis\":{\"backgroundcolor\":\"#E5ECF6\",\"gridcolor\":\"white\",\"linecolor\":\"white\",\"showbackground\":true,\"ticks\":\"\",\"zerolinecolor\":\"white\",\"gridwidth\":2}},\"shapedefaults\":{\"line\":{\"color\":\"#2a3f5f\"}},\"annotationdefaults\":{\"arrowcolor\":\"#2a3f5f\",\"arrowhead\":0,\"arrowwidth\":1},\"geo\":{\"bgcolor\":\"white\",\"landcolor\":\"#E5ECF6\",\"subunitcolor\":\"white\",\"showland\":true,\"showlakes\":true,\"lakecolor\":\"white\"},\"title\":{\"x\":0.05},\"mapbox\":{\"style\":\"light\"}}},\"legend\":{\"tracegroupgap\":0},\"title\":{\"text\":\"Population of American continent\"}},                        {\"responsive\": true}                    ).then(function(){\n",
       "                            \n",
       "var gd = document.getElementById('08e81912-0d2b-4100-9a34-1375a17b4185');\n",
       "var x = new MutationObserver(function (mutations, observer) {{\n",
       "        var display = window.getComputedStyle(gd).display;\n",
       "        if (!display || display === 'none') {{\n",
       "            console.log([gd, 'removed!']);\n",
       "            Plotly.purge(gd);\n",
       "            observer.disconnect();\n",
       "        }}\n",
       "}});\n",
       "\n",
       "// Listen for the removal of the full notebook cells\n",
       "var notebookContainer = gd.closest('#notebook-container');\n",
       "if (notebookContainer) {{\n",
       "    x.observe(notebookContainer, {childList: true});\n",
       "}}\n",
       "\n",
       "// Listen for the clearing of the current output cell\n",
       "var outputEl = gd.closest('.output');\n",
       "if (outputEl) {{\n",
       "    x.observe(outputEl, {childList: true});\n",
       "}}\n",
       "\n",
       "                        })                };                });            </script>        </div>"
      ]
     },
     "metadata": {},
     "output_type": "display_data"
    }
   ],
   "execution_count": 26
  },
  {
   "metadata": {},
   "cell_type": "code",
   "outputs": [],
   "execution_count": null,
   "source": "",
   "id": "15e898ea918b44b7"
  }
 ],
 "metadata": {
  "kernelspec": {
   "display_name": "Python 3",
   "language": "python",
   "name": "python3"
  },
  "language_info": {
   "codemirror_mode": {
    "name": "ipython",
    "version": 2
   },
   "file_extension": ".py",
   "mimetype": "text/x-python",
   "name": "python",
   "nbconvert_exporter": "python",
   "pygments_lexer": "ipython2",
   "version": "2.7.6"
  }
 },
 "nbformat": 4,
 "nbformat_minor": 5
}
